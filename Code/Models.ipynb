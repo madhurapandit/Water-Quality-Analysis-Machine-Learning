{
 "cells": [
  {
   "cell_type": "code",
   "execution_count": 1,
   "id": "244340b2",
   "metadata": {},
   "outputs": [],
   "source": [
    "import pandas as pd\n",
    "import numpy as np"
   ]
  },
  {
   "cell_type": "code",
   "execution_count": 2,
   "id": "c48377b0",
   "metadata": {},
   "outputs": [
    {
     "data": {
      "text/html": [
       "<div>\n",
       "<style scoped>\n",
       "    .dataframe tbody tr th:only-of-type {\n",
       "        vertical-align: middle;\n",
       "    }\n",
       "\n",
       "    .dataframe tbody tr th {\n",
       "        vertical-align: top;\n",
       "    }\n",
       "\n",
       "    .dataframe thead th {\n",
       "        text-align: right;\n",
       "    }\n",
       "</style>\n",
       "<table border=\"1\" class=\"dataframe\">\n",
       "  <thead>\n",
       "    <tr style=\"text-align: right;\">\n",
       "      <th></th>\n",
       "      <th>Sulfate (mg/L)</th>\n",
       "      <th>Chloride (mg/L)</th>\n",
       "      <th>Sodium (mg/L)</th>\n",
       "      <th>Potassium (mg/L)</th>\n",
       "      <th>Calcium (mg/L)</th>\n",
       "      <th>Magnesium (mg/L)</th>\n",
       "      <th>Total Dissolved Solids (mg/L)</th>\n",
       "      <th>Turbidity (NTU)</th>\n",
       "      <th>Temperature (deg C)</th>\n",
       "      <th>pH</th>\n",
       "      <th>Dissolved Oxygen (mg/L)</th>\n",
       "      <th>Nitrate (mg/L)</th>\n",
       "      <th>Biochemical Oxygen Demand (mg/L)</th>\n",
       "      <th>Fecal Coliform (cfu/100ml)</th>\n",
       "      <th>WQI</th>\n",
       "      <th>WQS</th>\n",
       "    </tr>\n",
       "  </thead>\n",
       "  <tbody>\n",
       "    <tr>\n",
       "      <th>0</th>\n",
       "      <td>2.800000</td>\n",
       "      <td>0.516000</td>\n",
       "      <td>0.303000</td>\n",
       "      <td>0.148000</td>\n",
       "      <td>1.710000</td>\n",
       "      <td>0.391000</td>\n",
       "      <td>121.463462</td>\n",
       "      <td>6.045000</td>\n",
       "      <td>0.100000</td>\n",
       "      <td>6.190000</td>\n",
       "      <td>10.346667</td>\n",
       "      <td>0.740</td>\n",
       "      <td>1.10</td>\n",
       "      <td>80.0</td>\n",
       "      <td>35.671682</td>\n",
       "      <td>Good</td>\n",
       "    </tr>\n",
       "    <tr>\n",
       "      <th>1</th>\n",
       "      <td>8.552500</td>\n",
       "      <td>17.076929</td>\n",
       "      <td>8.072056</td>\n",
       "      <td>1.238306</td>\n",
       "      <td>8.310093</td>\n",
       "      <td>2.726863</td>\n",
       "      <td>121.463462</td>\n",
       "      <td>6.045000</td>\n",
       "      <td>0.658482</td>\n",
       "      <td>6.366908</td>\n",
       "      <td>10.346667</td>\n",
       "      <td>0.740</td>\n",
       "      <td>1.10</td>\n",
       "      <td>80.0</td>\n",
       "      <td>38.840933</td>\n",
       "      <td>Good</td>\n",
       "    </tr>\n",
       "    <tr>\n",
       "      <th>2</th>\n",
       "      <td>10.470000</td>\n",
       "      <td>22.597238</td>\n",
       "      <td>10.661741</td>\n",
       "      <td>1.601741</td>\n",
       "      <td>10.510124</td>\n",
       "      <td>3.505485</td>\n",
       "      <td>121.463462</td>\n",
       "      <td>6.045000</td>\n",
       "      <td>1.216964</td>\n",
       "      <td>6.543816</td>\n",
       "      <td>10.346667</td>\n",
       "      <td>0.740</td>\n",
       "      <td>1.10</td>\n",
       "      <td>80.0</td>\n",
       "      <td>41.019089</td>\n",
       "      <td>Good</td>\n",
       "    </tr>\n",
       "    <tr>\n",
       "      <th>3</th>\n",
       "      <td>11.428750</td>\n",
       "      <td>25.357393</td>\n",
       "      <td>11.956583</td>\n",
       "      <td>1.783458</td>\n",
       "      <td>11.610140</td>\n",
       "      <td>3.894795</td>\n",
       "      <td>121.463462</td>\n",
       "      <td>6.045000</td>\n",
       "      <td>1.775446</td>\n",
       "      <td>6.720724</td>\n",
       "      <td>10.346667</td>\n",
       "      <td>0.740</td>\n",
       "      <td>1.10</td>\n",
       "      <td>80.0</td>\n",
       "      <td>42.949471</td>\n",
       "      <td>Good</td>\n",
       "    </tr>\n",
       "    <tr>\n",
       "      <th>4</th>\n",
       "      <td>12.897286</td>\n",
       "      <td>27.450200</td>\n",
       "      <td>13.006695</td>\n",
       "      <td>2.264624</td>\n",
       "      <td>12.937255</td>\n",
       "      <td>4.590122</td>\n",
       "      <td>121.463462</td>\n",
       "      <td>7.064571</td>\n",
       "      <td>2.333929</td>\n",
       "      <td>6.897632</td>\n",
       "      <td>11.004899</td>\n",
       "      <td>0.736</td>\n",
       "      <td>1.12</td>\n",
       "      <td>80.0</td>\n",
       "      <td>48.564266</td>\n",
       "      <td>Good</td>\n",
       "    </tr>\n",
       "  </tbody>\n",
       "</table>\n",
       "</div>"
      ],
      "text/plain": [
       "   Sulfate (mg/L)  Chloride (mg/L)  Sodium (mg/L)  Potassium (mg/L)  \\\n",
       "0        2.800000         0.516000       0.303000          0.148000   \n",
       "1        8.552500        17.076929       8.072056          1.238306   \n",
       "2       10.470000        22.597238      10.661741          1.601741   \n",
       "3       11.428750        25.357393      11.956583          1.783458   \n",
       "4       12.897286        27.450200      13.006695          2.264624   \n",
       "\n",
       "   Calcium (mg/L)  Magnesium (mg/L)  Total Dissolved Solids (mg/L)  \\\n",
       "0        1.710000          0.391000                     121.463462   \n",
       "1        8.310093          2.726863                     121.463462   \n",
       "2       10.510124          3.505485                     121.463462   \n",
       "3       11.610140          3.894795                     121.463462   \n",
       "4       12.937255          4.590122                     121.463462   \n",
       "\n",
       "   Turbidity (NTU)  Temperature (deg C)        pH  Dissolved Oxygen (mg/L)  \\\n",
       "0         6.045000             0.100000  6.190000                10.346667   \n",
       "1         6.045000             0.658482  6.366908                10.346667   \n",
       "2         6.045000             1.216964  6.543816                10.346667   \n",
       "3         6.045000             1.775446  6.720724                10.346667   \n",
       "4         7.064571             2.333929  6.897632                11.004899   \n",
       "\n",
       "   Nitrate (mg/L)  Biochemical Oxygen Demand (mg/L)  \\\n",
       "0           0.740                              1.10   \n",
       "1           0.740                              1.10   \n",
       "2           0.740                              1.10   \n",
       "3           0.740                              1.10   \n",
       "4           0.736                              1.12   \n",
       "\n",
       "   Fecal Coliform (cfu/100ml)        WQI   WQS  \n",
       "0                        80.0  35.671682  Good  \n",
       "1                        80.0  38.840933  Good  \n",
       "2                        80.0  41.019089  Good  \n",
       "3                        80.0  42.949471  Good  \n",
       "4                        80.0  48.564266  Good  "
      ]
     },
     "execution_count": 2,
     "metadata": {},
     "output_type": "execute_result"
    }
   ],
   "source": [
    "WQI_complete = pd.read_excel('Complete_Data_WQI.xlsx')\n",
    "WQI_complete.drop(columns='Unnamed: 0',inplace=True)\n",
    "WQI_complete.head()"
   ]
  },
  {
   "cell_type": "code",
   "execution_count": 3,
   "id": "301746d8",
   "metadata": {},
   "outputs": [],
   "source": [
    "data_x = WQI_complete.drop(columns=['WQI','WQS'])\n",
    "data_y_wqs = WQI_complete['WQS']"
   ]
  },
  {
   "cell_type": "code",
   "execution_count": 4,
   "id": "9bbc29a1",
   "metadata": {},
   "outputs": [
    {
     "data": {
      "text/html": [
       "<div>\n",
       "<style scoped>\n",
       "    .dataframe tbody tr th:only-of-type {\n",
       "        vertical-align: middle;\n",
       "    }\n",
       "\n",
       "    .dataframe tbody tr th {\n",
       "        vertical-align: top;\n",
       "    }\n",
       "\n",
       "    .dataframe thead th {\n",
       "        text-align: right;\n",
       "    }\n",
       "</style>\n",
       "<table border=\"1\" class=\"dataframe\">\n",
       "  <thead>\n",
       "    <tr style=\"text-align: right;\">\n",
       "      <th></th>\n",
       "      <th>Temperature (deg C)</th>\n",
       "      <th>Dissolved Oxygen (mg/L)</th>\n",
       "      <th>Turbidity (NTU)</th>\n",
       "      <th>Biochemical Oxygen Demand (mg/L)</th>\n",
       "      <th>Total Dissolved Solids (mg/L)</th>\n",
       "      <th>Fecal Coliform (cfu/100ml)</th>\n",
       "      <th>pH</th>\n",
       "      <th>Sulfate (mg/L)</th>\n",
       "      <th>WQI</th>\n",
       "      <th>WQS</th>\n",
       "    </tr>\n",
       "  </thead>\n",
       "  <tbody>\n",
       "    <tr>\n",
       "      <th>0</th>\n",
       "      <td>0.100000</td>\n",
       "      <td>10.346667</td>\n",
       "      <td>6.045000</td>\n",
       "      <td>1.10</td>\n",
       "      <td>121.463462</td>\n",
       "      <td>80.0</td>\n",
       "      <td>6.190000</td>\n",
       "      <td>2.800000</td>\n",
       "      <td>35.671682</td>\n",
       "      <td>Good</td>\n",
       "    </tr>\n",
       "    <tr>\n",
       "      <th>1</th>\n",
       "      <td>0.658482</td>\n",
       "      <td>10.346667</td>\n",
       "      <td>6.045000</td>\n",
       "      <td>1.10</td>\n",
       "      <td>121.463462</td>\n",
       "      <td>80.0</td>\n",
       "      <td>6.366908</td>\n",
       "      <td>8.552500</td>\n",
       "      <td>38.840933</td>\n",
       "      <td>Good</td>\n",
       "    </tr>\n",
       "    <tr>\n",
       "      <th>2</th>\n",
       "      <td>1.216964</td>\n",
       "      <td>10.346667</td>\n",
       "      <td>6.045000</td>\n",
       "      <td>1.10</td>\n",
       "      <td>121.463462</td>\n",
       "      <td>80.0</td>\n",
       "      <td>6.543816</td>\n",
       "      <td>10.470000</td>\n",
       "      <td>41.019089</td>\n",
       "      <td>Good</td>\n",
       "    </tr>\n",
       "    <tr>\n",
       "      <th>3</th>\n",
       "      <td>1.775446</td>\n",
       "      <td>10.346667</td>\n",
       "      <td>6.045000</td>\n",
       "      <td>1.10</td>\n",
       "      <td>121.463462</td>\n",
       "      <td>80.0</td>\n",
       "      <td>6.720724</td>\n",
       "      <td>11.428750</td>\n",
       "      <td>42.949471</td>\n",
       "      <td>Good</td>\n",
       "    </tr>\n",
       "    <tr>\n",
       "      <th>4</th>\n",
       "      <td>2.333929</td>\n",
       "      <td>11.004899</td>\n",
       "      <td>7.064571</td>\n",
       "      <td>1.12</td>\n",
       "      <td>121.463462</td>\n",
       "      <td>80.0</td>\n",
       "      <td>6.897632</td>\n",
       "      <td>12.897286</td>\n",
       "      <td>48.564266</td>\n",
       "      <td>Good</td>\n",
       "    </tr>\n",
       "  </tbody>\n",
       "</table>\n",
       "</div>"
      ],
      "text/plain": [
       "   Temperature (deg C)  Dissolved Oxygen (mg/L)  Turbidity (NTU)  \\\n",
       "0             0.100000                10.346667         6.045000   \n",
       "1             0.658482                10.346667         6.045000   \n",
       "2             1.216964                10.346667         6.045000   \n",
       "3             1.775446                10.346667         6.045000   \n",
       "4             2.333929                11.004899         7.064571   \n",
       "\n",
       "   Biochemical Oxygen Demand (mg/L)  Total Dissolved Solids (mg/L)  \\\n",
       "0                              1.10                     121.463462   \n",
       "1                              1.10                     121.463462   \n",
       "2                              1.10                     121.463462   \n",
       "3                              1.10                     121.463462   \n",
       "4                              1.12                     121.463462   \n",
       "\n",
       "   Fecal Coliform (cfu/100ml)        pH  Sulfate (mg/L)        WQI   WQS  \n",
       "0                        80.0  6.190000        2.800000  35.671682  Good  \n",
       "1                        80.0  6.366908        8.552500  38.840933  Good  \n",
       "2                        80.0  6.543816       10.470000  41.019089  Good  \n",
       "3                        80.0  6.720724       11.428750  42.949471  Good  \n",
       "4                        80.0  6.897632       12.897286  48.564266  Good  "
      ]
     },
     "execution_count": 4,
     "metadata": {},
     "output_type": "execute_result"
    }
   ],
   "source": [
    "WQI_correlated = pd.read_excel('Correlation_Data_WQI.xlsx')\n",
    "WQI_correlated.drop(columns='Unnamed: 0',inplace=True)\n",
    "WQI_correlated.head()"
   ]
  },
  {
   "cell_type": "code",
   "execution_count": 5,
   "id": "b61b521c",
   "metadata": {},
   "outputs": [],
   "source": [
    "data_x_corr =  WQI_correlated.drop(columns=['WQI', 'WQS'])\n",
    "data_y_corr = WQI_correlated['WQS']"
   ]
  },
  {
   "cell_type": "code",
   "execution_count": 6,
   "id": "afaa6cfe",
   "metadata": {},
   "outputs": [
    {
     "data": {
      "text/html": [
       "<div>\n",
       "<style scoped>\n",
       "    .dataframe tbody tr th:only-of-type {\n",
       "        vertical-align: middle;\n",
       "    }\n",
       "\n",
       "    .dataframe tbody tr th {\n",
       "        vertical-align: top;\n",
       "    }\n",
       "\n",
       "    .dataframe thead th {\n",
       "        text-align: right;\n",
       "    }\n",
       "</style>\n",
       "<table border=\"1\" class=\"dataframe\">\n",
       "  <thead>\n",
       "    <tr style=\"text-align: right;\">\n",
       "      <th></th>\n",
       "      <th>Sulfate (mg/L)</th>\n",
       "      <th>Chloride (mg/L)</th>\n",
       "      <th>Sodium (mg/L)</th>\n",
       "      <th>Potassium (mg/L)</th>\n",
       "      <th>Calcium (mg/L)</th>\n",
       "      <th>Magnesium (mg/L)</th>\n",
       "      <th>Total Dissolved Solids (mg/L)</th>\n",
       "      <th>Turbidity (NTU)</th>\n",
       "      <th>Temperature (deg C)</th>\n",
       "      <th>pH</th>\n",
       "      <th>Dissolved Oxygen (mg/L)</th>\n",
       "      <th>Nitrate (mg/L)</th>\n",
       "      <th>Biochemical Oxygen Demand (mg/L)</th>\n",
       "      <th>Fecal Coliform (cfu/100ml)</th>\n",
       "      <th>WQI</th>\n",
       "      <th>WQS</th>\n",
       "    </tr>\n",
       "  </thead>\n",
       "  <tbody>\n",
       "    <tr>\n",
       "      <th>0</th>\n",
       "      <td>16.000000</td>\n",
       "      <td>12.250000</td>\n",
       "      <td>6.600000</td>\n",
       "      <td>1.416908</td>\n",
       "      <td>11.666667</td>\n",
       "      <td>3.746072</td>\n",
       "      <td>123.50</td>\n",
       "      <td>4.825000</td>\n",
       "      <td>8.500000</td>\n",
       "      <td>6.903333</td>\n",
       "      <td>13.050000</td>\n",
       "      <td>1.45</td>\n",
       "      <td>1.72</td>\n",
       "      <td>310.0</td>\n",
       "      <td>39.490080</td>\n",
       "      <td>Good</td>\n",
       "    </tr>\n",
       "    <tr>\n",
       "      <th>1</th>\n",
       "      <td>21.165000</td>\n",
       "      <td>14.080000</td>\n",
       "      <td>4.356500</td>\n",
       "      <td>2.018000</td>\n",
       "      <td>25.315000</td>\n",
       "      <td>6.051000</td>\n",
       "      <td>265.00</td>\n",
       "      <td>4.825000</td>\n",
       "      <td>6.933333</td>\n",
       "      <td>6.830000</td>\n",
       "      <td>10.200000</td>\n",
       "      <td>1.45</td>\n",
       "      <td>1.72</td>\n",
       "      <td>310.0</td>\n",
       "      <td>45.668848</td>\n",
       "      <td>Good</td>\n",
       "    </tr>\n",
       "    <tr>\n",
       "      <th>2</th>\n",
       "      <td>10.102857</td>\n",
       "      <td>4.587714</td>\n",
       "      <td>2.683429</td>\n",
       "      <td>0.745429</td>\n",
       "      <td>7.027143</td>\n",
       "      <td>2.315857</td>\n",
       "      <td>119.75</td>\n",
       "      <td>4.825000</td>\n",
       "      <td>5.728571</td>\n",
       "      <td>6.401111</td>\n",
       "      <td>9.356473</td>\n",
       "      <td>1.45</td>\n",
       "      <td>1.72</td>\n",
       "      <td>310.0</td>\n",
       "      <td>41.486400</td>\n",
       "      <td>Good</td>\n",
       "    </tr>\n",
       "    <tr>\n",
       "      <th>3</th>\n",
       "      <td>12.351111</td>\n",
       "      <td>7.307375</td>\n",
       "      <td>3.940875</td>\n",
       "      <td>1.314500</td>\n",
       "      <td>13.101818</td>\n",
       "      <td>3.391000</td>\n",
       "      <td>118.00</td>\n",
       "      <td>18.133333</td>\n",
       "      <td>4.911111</td>\n",
       "      <td>7.342727</td>\n",
       "      <td>12.320000</td>\n",
       "      <td>1.45</td>\n",
       "      <td>1.72</td>\n",
       "      <td>310.0</td>\n",
       "      <td>104.832381</td>\n",
       "      <td>Unsuitable for drinking</td>\n",
       "    </tr>\n",
       "    <tr>\n",
       "      <th>4</th>\n",
       "      <td>18.220000</td>\n",
       "      <td>10.921167</td>\n",
       "      <td>7.469500</td>\n",
       "      <td>1.634000</td>\n",
       "      <td>14.175000</td>\n",
       "      <td>4.721000</td>\n",
       "      <td>169.50</td>\n",
       "      <td>62.000000</td>\n",
       "      <td>5.025000</td>\n",
       "      <td>7.325000</td>\n",
       "      <td>12.000000</td>\n",
       "      <td>1.45</td>\n",
       "      <td>1.72</td>\n",
       "      <td>310.0</td>\n",
       "      <td>305.778116</td>\n",
       "      <td>Unsuitable for drinking</td>\n",
       "    </tr>\n",
       "  </tbody>\n",
       "</table>\n",
       "</div>"
      ],
      "text/plain": [
       "   Sulfate (mg/L)  Chloride (mg/L)  Sodium (mg/L)  Potassium (mg/L)  \\\n",
       "0       16.000000        12.250000       6.600000          1.416908   \n",
       "1       21.165000        14.080000       4.356500          2.018000   \n",
       "2       10.102857         4.587714       2.683429          0.745429   \n",
       "3       12.351111         7.307375       3.940875          1.314500   \n",
       "4       18.220000        10.921167       7.469500          1.634000   \n",
       "\n",
       "   Calcium (mg/L)  Magnesium (mg/L)  Total Dissolved Solids (mg/L)  \\\n",
       "0       11.666667          3.746072                         123.50   \n",
       "1       25.315000          6.051000                         265.00   \n",
       "2        7.027143          2.315857                         119.75   \n",
       "3       13.101818          3.391000                         118.00   \n",
       "4       14.175000          4.721000                         169.50   \n",
       "\n",
       "   Turbidity (NTU)  Temperature (deg C)        pH  Dissolved Oxygen (mg/L)  \\\n",
       "0         4.825000             8.500000  6.903333                13.050000   \n",
       "1         4.825000             6.933333  6.830000                10.200000   \n",
       "2         4.825000             5.728571  6.401111                 9.356473   \n",
       "3        18.133333             4.911111  7.342727                12.320000   \n",
       "4        62.000000             5.025000  7.325000                12.000000   \n",
       "\n",
       "   Nitrate (mg/L)  Biochemical Oxygen Demand (mg/L)  \\\n",
       "0            1.45                              1.72   \n",
       "1            1.45                              1.72   \n",
       "2            1.45                              1.72   \n",
       "3            1.45                              1.72   \n",
       "4            1.45                              1.72   \n",
       "\n",
       "   Fecal Coliform (cfu/100ml)         WQI                      WQS  \n",
       "0                       310.0   39.490080                     Good  \n",
       "1                       310.0   45.668848                     Good  \n",
       "2                       310.0   41.486400                     Good  \n",
       "3                       310.0  104.832381  Unsuitable for drinking  \n",
       "4                       310.0  305.778116  Unsuitable for drinking  "
      ]
     },
     "execution_count": 6,
     "metadata": {},
     "output_type": "execute_result"
    }
   ],
   "source": [
    "WQI_test = pd.read_excel('WQI_test_set.xlsx')\n",
    "WQI_test.head()"
   ]
  },
  {
   "cell_type": "code",
   "execution_count": 7,
   "id": "ac34a940",
   "metadata": {},
   "outputs": [],
   "source": [
    "x_test = WQI_test.drop(columns=['WQI','WQS'])\n",
    "y_test = WQI_test['WQS']"
   ]
  },
  {
   "cell_type": "code",
   "execution_count": 8,
   "id": "23de05e7",
   "metadata": {},
   "outputs": [],
   "source": [
    "WQI_test_corr = pd.read_excel('WQI_test_correlated.xlsx')"
   ]
  },
  {
   "cell_type": "code",
   "execution_count": 9,
   "id": "4853d923",
   "metadata": {},
   "outputs": [],
   "source": [
    "x_test_corr = WQI_test_corr.drop(columns=['WQI','WQS'])\n",
    "y_test_corr = WQI_test_corr['WQS']"
   ]
  },
  {
   "cell_type": "markdown",
   "id": "4db11023",
   "metadata": {},
   "source": [
    "### PCA"
   ]
  },
  {
   "cell_type": "code",
   "execution_count": 10,
   "id": "27f3fa29",
   "metadata": {},
   "outputs": [],
   "source": [
    "## Splitting data into train and val\n",
    "from sklearn.model_selection import train_test_split \n",
    "\n",
    "x_train, x_val, y_train, y_val = train_test_split(data_x,data_y_wqs,test_size = 0.2)\n",
    "\n",
    "from sklearn.preprocessing import MinMaxScaler  \n",
    "\n",
    "# Normalize the features for PCA\n",
    "minmax = MinMaxScaler()\n",
    "x_train_norm = minmax.fit_transform(x_train)\n",
    "x_val_norm = minmax.transform(x_val)\n",
    "\n",
    "## PCA\n",
    "from sklearn.decomposition import PCA\n",
    "\n",
    "pca = PCA(n_components=8)\n",
    "x_train_pca = pca.fit_transform(x_train_norm)\n",
    "x_val_pca = pca.transform(x_val_norm)"
   ]
  },
  {
   "cell_type": "code",
   "execution_count": 11,
   "id": "cca6008d",
   "metadata": {},
   "outputs": [],
   "source": [
    "## Performing PCA on test data\n",
    "\n",
    "# Normalize the test set for PCA\n",
    "x_test_norm = minmax.transform(x_test)\n",
    "\n",
    "## PCA\n",
    "x_test_pca = pca.transform(x_test_norm)"
   ]
  },
  {
   "cell_type": "markdown",
   "id": "b4a479cf",
   "metadata": {},
   "source": [
    "# Models"
   ]
  },
  {
   "cell_type": "markdown",
   "id": "18bec973",
   "metadata": {},
   "source": [
    "## Decision Tree"
   ]
  },
  {
   "cell_type": "code",
   "execution_count": 12,
   "id": "d2dc1fa7",
   "metadata": {},
   "outputs": [],
   "source": [
    "from sklearn.metrics import confusion_matrix\n",
    "from sklearn import tree\n",
    "from sklearn.tree import DecisionTreeClassifier\n",
    "from sklearn.metrics import accuracy_score\n",
    "from sklearn.metrics import classification_report"
   ]
  },
  {
   "cell_type": "markdown",
   "id": "4d6df82f",
   "metadata": {},
   "source": [
    "##### With PCA"
   ]
  },
  {
   "cell_type": "code",
   "execution_count": 13,
   "id": "95d53133",
   "metadata": {},
   "outputs": [
    {
     "name": "stdout",
     "output_type": "stream",
     "text": [
      "Train-Val split- DT model- PCA\n",
      "Confusion Matrix: \n",
      "[[ 15   1   1   5]\n",
      " [  0  94   6   0]\n",
      " [  6   6 128   2]\n",
      " [  1   0   2  99]]\n",
      "\n",
      "Classification report : \n",
      "                          precision    recall  f1-score   support\n",
      "\n",
      "                    Bad       0.68      0.68      0.68        22\n",
      "                   Good       0.93      0.94      0.94       100\n",
      "                 Medium       0.93      0.90      0.92       142\n",
      "Unsuitable for drinking       0.93      0.97      0.95       102\n",
      "\n",
      "               accuracy                           0.92       366\n",
      "              macro avg       0.87      0.87      0.87       366\n",
      "           weighted avg       0.92      0.92      0.92       366\n",
      "\n"
     ]
    }
   ],
   "source": [
    "## using train & validation set\n",
    "pca_dt = DecisionTreeClassifier(criterion = \"entropy\", random_state = 10)\n",
    "pca_dt.fit(x_train_pca, y_train)\n",
    "y_pred_val_pca_dt = pca_dt.predict(x_val_pca)\n",
    "\n",
    "print('Train-Val split- DT model- PCA')\n",
    "cm_pca_dt = confusion_matrix(y_val, y_pred_val_pca_dt)\n",
    "print(f'Confusion Matrix: \\n{cm_pca_dt}')\n",
    "print(f'\\nClassification report : \\n {classification_report(y_val, y_pred_val_pca_dt)}')"
   ]
  },
  {
   "cell_type": "code",
   "execution_count": 14,
   "id": "74fad4a8",
   "metadata": {},
   "outputs": [
    {
     "name": "stdout",
     "output_type": "stream",
     "text": [
      "Test split- DT model- PCA\n",
      "Confusion Matrix: \n",
      "[[ 18   0   0   7  11]\n",
      " [ 10   0   0   0   4]\n",
      " [158   0   0 105  99]\n",
      " [ 79   0   1  44  39]\n",
      " [ 13   0   4   6  41]]\n",
      "\n",
      "Classification report : \n",
      "                          precision    recall  f1-score   support\n",
      "\n",
      "                    Bad       0.06      0.50      0.11        36\n",
      "              Excellent       0.00      0.00      0.00        14\n",
      "                   Good       0.00      0.00      0.00       362\n",
      "                 Medium       0.27      0.27      0.27       163\n",
      "Unsuitable for drinking       0.21      0.64      0.32        64\n",
      "\n",
      "               accuracy                           0.16       639\n",
      "              macro avg       0.11      0.28      0.14       639\n",
      "           weighted avg       0.09      0.16      0.11       639\n",
      "\n"
     ]
    },
    {
     "name": "stderr",
     "output_type": "stream",
     "text": [
      "C:\\Users\\sweth\\anaconda3\\lib\\site-packages\\sklearn\\metrics\\_classification.py:1334: UndefinedMetricWarning: Precision and F-score are ill-defined and being set to 0.0 in labels with no predicted samples. Use `zero_division` parameter to control this behavior.\n",
      "  _warn_prf(average, modifier, msg_start, len(result))\n",
      "C:\\Users\\sweth\\anaconda3\\lib\\site-packages\\sklearn\\metrics\\_classification.py:1334: UndefinedMetricWarning: Precision and F-score are ill-defined and being set to 0.0 in labels with no predicted samples. Use `zero_division` parameter to control this behavior.\n",
      "  _warn_prf(average, modifier, msg_start, len(result))\n",
      "C:\\Users\\sweth\\anaconda3\\lib\\site-packages\\sklearn\\metrics\\_classification.py:1334: UndefinedMetricWarning: Precision and F-score are ill-defined and being set to 0.0 in labels with no predicted samples. Use `zero_division` parameter to control this behavior.\n",
      "  _warn_prf(average, modifier, msg_start, len(result))\n"
     ]
    }
   ],
   "source": [
    "## test set\n",
    "\n",
    "y_pred_test_pca_dt = pca_dt.predict(x_test_pca)\n",
    "\n",
    "print('Test split- DT model- PCA')\n",
    "cm_pca_test_dt = confusion_matrix(y_test, y_pred_test_pca_dt)\n",
    "print(f'Confusion Matrix: \\n{cm_pca_test_dt}')\n",
    "print(f'\\nClassification report : \\n {classification_report(y_test, y_pred_test_pca_dt)}')"
   ]
  },
  {
   "cell_type": "markdown",
   "id": "adc0e27a",
   "metadata": {},
   "source": [
    "##### Only high correlation features"
   ]
  },
  {
   "cell_type": "code",
   "execution_count": 15,
   "id": "cfd6414f",
   "metadata": {},
   "outputs": [],
   "source": [
    "## K Fold\n",
    "from sklearn.model_selection import KFold \n",
    "\n",
    "k_fold_splits = KFold(n_splits=5, shuffle=True, random_state=7)"
   ]
  },
  {
   "cell_type": "code",
   "execution_count": 16,
   "id": "99314227",
   "metadata": {},
   "outputs": [
    {
     "data": {
      "text/html": [
       "<style>#sk-container-id-1 {color: black;background-color: white;}#sk-container-id-1 pre{padding: 0;}#sk-container-id-1 div.sk-toggleable {background-color: white;}#sk-container-id-1 label.sk-toggleable__label {cursor: pointer;display: block;width: 100%;margin-bottom: 0;padding: 0.3em;box-sizing: border-box;text-align: center;}#sk-container-id-1 label.sk-toggleable__label-arrow:before {content: \"▸\";float: left;margin-right: 0.25em;color: #696969;}#sk-container-id-1 label.sk-toggleable__label-arrow:hover:before {color: black;}#sk-container-id-1 div.sk-estimator:hover label.sk-toggleable__label-arrow:before {color: black;}#sk-container-id-1 div.sk-toggleable__content {max-height: 0;max-width: 0;overflow: hidden;text-align: left;background-color: #f0f8ff;}#sk-container-id-1 div.sk-toggleable__content pre {margin: 0.2em;color: black;border-radius: 0.25em;background-color: #f0f8ff;}#sk-container-id-1 input.sk-toggleable__control:checked~div.sk-toggleable__content {max-height: 200px;max-width: 100%;overflow: auto;}#sk-container-id-1 input.sk-toggleable__control:checked~label.sk-toggleable__label-arrow:before {content: \"▾\";}#sk-container-id-1 div.sk-estimator input.sk-toggleable__control:checked~label.sk-toggleable__label {background-color: #d4ebff;}#sk-container-id-1 div.sk-label input.sk-toggleable__control:checked~label.sk-toggleable__label {background-color: #d4ebff;}#sk-container-id-1 input.sk-hidden--visually {border: 0;clip: rect(1px 1px 1px 1px);clip: rect(1px, 1px, 1px, 1px);height: 1px;margin: -1px;overflow: hidden;padding: 0;position: absolute;width: 1px;}#sk-container-id-1 div.sk-estimator {font-family: monospace;background-color: #f0f8ff;border: 1px dotted black;border-radius: 0.25em;box-sizing: border-box;margin-bottom: 0.5em;}#sk-container-id-1 div.sk-estimator:hover {background-color: #d4ebff;}#sk-container-id-1 div.sk-parallel-item::after {content: \"\";width: 100%;border-bottom: 1px solid gray;flex-grow: 1;}#sk-container-id-1 div.sk-label:hover label.sk-toggleable__label {background-color: #d4ebff;}#sk-container-id-1 div.sk-serial::before {content: \"\";position: absolute;border-left: 1px solid gray;box-sizing: border-box;top: 0;bottom: 0;left: 50%;z-index: 0;}#sk-container-id-1 div.sk-serial {display: flex;flex-direction: column;align-items: center;background-color: white;padding-right: 0.2em;padding-left: 0.2em;position: relative;}#sk-container-id-1 div.sk-item {position: relative;z-index: 1;}#sk-container-id-1 div.sk-parallel {display: flex;align-items: stretch;justify-content: center;background-color: white;position: relative;}#sk-container-id-1 div.sk-item::before, #sk-container-id-1 div.sk-parallel-item::before {content: \"\";position: absolute;border-left: 1px solid gray;box-sizing: border-box;top: 0;bottom: 0;left: 50%;z-index: -1;}#sk-container-id-1 div.sk-parallel-item {display: flex;flex-direction: column;z-index: 1;position: relative;background-color: white;}#sk-container-id-1 div.sk-parallel-item:first-child::after {align-self: flex-end;width: 50%;}#sk-container-id-1 div.sk-parallel-item:last-child::after {align-self: flex-start;width: 50%;}#sk-container-id-1 div.sk-parallel-item:only-child::after {width: 0;}#sk-container-id-1 div.sk-dashed-wrapped {border: 1px dashed gray;margin: 0 0.4em 0.5em 0.4em;box-sizing: border-box;padding-bottom: 0.4em;background-color: white;}#sk-container-id-1 div.sk-label label {font-family: monospace;font-weight: bold;display: inline-block;line-height: 1.2em;}#sk-container-id-1 div.sk-label-container {text-align: center;}#sk-container-id-1 div.sk-container {/* jupyter's `normalize.less` sets `[hidden] { display: none; }` but bootstrap.min.css set `[hidden] { display: none !important; }` so we also need the `!important` here to be able to override the default hidden behavior on the sphinx rendered scikit-learn.org. See: https://github.com/scikit-learn/scikit-learn/issues/21755 */display: inline-block !important;position: relative;}#sk-container-id-1 div.sk-text-repr-fallback {display: none;}</style><div id=\"sk-container-id-1\" class=\"sk-top-container\"><div class=\"sk-text-repr-fallback\"><pre>DecisionTreeClassifier(criterion=&#x27;entropy&#x27;, random_state=10)</pre><b>In a Jupyter environment, please rerun this cell to show the HTML representation or trust the notebook. <br />On GitHub, the HTML representation is unable to render, please try loading this page with nbviewer.org.</b></div><div class=\"sk-container\" hidden><div class=\"sk-item\"><div class=\"sk-estimator sk-toggleable\"><input class=\"sk-toggleable__control sk-hidden--visually\" id=\"sk-estimator-id-1\" type=\"checkbox\" checked><label for=\"sk-estimator-id-1\" class=\"sk-toggleable__label sk-toggleable__label-arrow\">DecisionTreeClassifier</label><div class=\"sk-toggleable__content\"><pre>DecisionTreeClassifier(criterion=&#x27;entropy&#x27;, random_state=10)</pre></div></div></div></div></div>"
      ],
      "text/plain": [
       "DecisionTreeClassifier(criterion='entropy', random_state=10)"
      ]
     },
     "execution_count": 16,
     "metadata": {},
     "output_type": "execute_result"
    }
   ],
   "source": [
    "corr_dt_model = DecisionTreeClassifier(criterion = \"entropy\", random_state = 10)\n",
    "corr_dt_model.fit(data_x_corr,data_y_corr)"
   ]
  },
  {
   "cell_type": "code",
   "execution_count": 17,
   "id": "84937b27",
   "metadata": {},
   "outputs": [
    {
     "name": "stdout",
     "output_type": "stream",
     "text": [
      "K Fold Validation- DT model- for correlation features- Train & Validation sets\n",
      "Accuracy: 0.9743\n",
      "Precision: 0.9745\n",
      "Recall: 0.9743\n",
      "F1 score: 0.9743\n"
     ]
    }
   ],
   "source": [
    "## model evaluation - train & validation set\n",
    "from sklearn.model_selection import cross_validate\n",
    "from sklearn.metrics import make_scorer\n",
    "from sklearn.metrics import precision_score\n",
    "from sklearn.metrics import recall_score\n",
    "from sklearn.metrics import f1_score\n",
    "\n",
    "\n",
    "\n",
    "scores = {'accuracy': 'accuracy',\n",
    "           'precision': make_scorer(precision_score, average='weighted'),\n",
    "           'recall': make_scorer(recall_score, average='weighted'),\n",
    "           'f1': make_scorer(f1_score, average='weighted'),\n",
    "           }\n",
    "\n",
    "\n",
    "dt_score_corr = cross_validate(corr_dt_model, data_x_corr, data_y_corr, scoring=scores, \n",
    "                           cv=k_fold_splits, n_jobs=-1, error_score=\"raise\")\n",
    "\n",
    "accuracy_corr = np.mean(dt_score_corr['test_accuracy'])\n",
    "precision_corr = np.mean(dt_score_corr['test_precision'])\n",
    "recall_corr = np.mean(dt_score_corr['test_recall'])\n",
    "f1_corr = np.mean(dt_score_corr['test_f1'])\n",
    "\n",
    "print('K Fold Validation- DT model- for correlation features- Train & Validation sets')\n",
    "print(f'Accuracy: {accuracy_corr:.4f}')\n",
    "print(f'Precision: {precision_corr:.4f}')\n",
    "print(f'Recall: {recall_corr:.4f}')\n",
    "print(f'F1 score: {f1_corr:.4f}')"
   ]
  },
  {
   "cell_type": "code",
   "execution_count": 18,
   "id": "b97da0c8",
   "metadata": {},
   "outputs": [
    {
     "name": "stdout",
     "output_type": "stream",
     "text": [
      "K Fold Validation- DT model- for correlation features- Test set\n",
      "Confusion Matrix: \n",
      "[[ 33   0   0   0   3]\n",
      " [  3   0   9   2   0]\n",
      " [162   0 178  22   0]\n",
      " [141   0  17   5   0]\n",
      " [ 10   0   0   0  54]]\n",
      "\n",
      "Classification report : \n",
      "                          precision    recall  f1-score   support\n",
      "\n",
      "                    Bad       0.09      0.92      0.17        36\n",
      "              Excellent       0.00      0.00      0.00        14\n",
      "                   Good       0.87      0.49      0.63       362\n",
      "                 Medium       0.17      0.03      0.05       163\n",
      "Unsuitable for drinking       0.95      0.84      0.89        64\n",
      "\n",
      "               accuracy                           0.42       639\n",
      "              macro avg       0.42      0.46      0.35       639\n",
      "           weighted avg       0.64      0.42      0.47       639\n",
      "\n"
     ]
    },
    {
     "name": "stderr",
     "output_type": "stream",
     "text": [
      "C:\\Users\\sweth\\anaconda3\\lib\\site-packages\\sklearn\\metrics\\_classification.py:1334: UndefinedMetricWarning: Precision and F-score are ill-defined and being set to 0.0 in labels with no predicted samples. Use `zero_division` parameter to control this behavior.\n",
      "  _warn_prf(average, modifier, msg_start, len(result))\n",
      "C:\\Users\\sweth\\anaconda3\\lib\\site-packages\\sklearn\\metrics\\_classification.py:1334: UndefinedMetricWarning: Precision and F-score are ill-defined and being set to 0.0 in labels with no predicted samples. Use `zero_division` parameter to control this behavior.\n",
      "  _warn_prf(average, modifier, msg_start, len(result))\n",
      "C:\\Users\\sweth\\anaconda3\\lib\\site-packages\\sklearn\\metrics\\_classification.py:1334: UndefinedMetricWarning: Precision and F-score are ill-defined and being set to 0.0 in labels with no predicted samples. Use `zero_division` parameter to control this behavior.\n",
      "  _warn_prf(average, modifier, msg_start, len(result))\n"
     ]
    }
   ],
   "source": [
    "### Test set\n",
    "\n",
    "\n",
    "y_pred_test_corr_dt = corr_dt_model.predict(x_test_corr)\n",
    "\n",
    "\n",
    "print('K Fold Validation- DT model- for correlation features- Test set')\n",
    "\n",
    "print(f'Confusion Matrix: \\n{confusion_matrix(y_test_corr, y_pred_test_corr_dt)}')\n",
    "print(f'\\nClassification report : \\n {classification_report(y_test_corr, y_pred_test_corr_dt)}')"
   ]
  },
  {
   "cell_type": "markdown",
   "id": "c5a69e2c",
   "metadata": {},
   "source": [
    "##### All features"
   ]
  },
  {
   "cell_type": "code",
   "execution_count": 19,
   "id": "f255c027",
   "metadata": {},
   "outputs": [
    {
     "data": {
      "text/html": [
       "<style>#sk-container-id-2 {color: black;background-color: white;}#sk-container-id-2 pre{padding: 0;}#sk-container-id-2 div.sk-toggleable {background-color: white;}#sk-container-id-2 label.sk-toggleable__label {cursor: pointer;display: block;width: 100%;margin-bottom: 0;padding: 0.3em;box-sizing: border-box;text-align: center;}#sk-container-id-2 label.sk-toggleable__label-arrow:before {content: \"▸\";float: left;margin-right: 0.25em;color: #696969;}#sk-container-id-2 label.sk-toggleable__label-arrow:hover:before {color: black;}#sk-container-id-2 div.sk-estimator:hover label.sk-toggleable__label-arrow:before {color: black;}#sk-container-id-2 div.sk-toggleable__content {max-height: 0;max-width: 0;overflow: hidden;text-align: left;background-color: #f0f8ff;}#sk-container-id-2 div.sk-toggleable__content pre {margin: 0.2em;color: black;border-radius: 0.25em;background-color: #f0f8ff;}#sk-container-id-2 input.sk-toggleable__control:checked~div.sk-toggleable__content {max-height: 200px;max-width: 100%;overflow: auto;}#sk-container-id-2 input.sk-toggleable__control:checked~label.sk-toggleable__label-arrow:before {content: \"▾\";}#sk-container-id-2 div.sk-estimator input.sk-toggleable__control:checked~label.sk-toggleable__label {background-color: #d4ebff;}#sk-container-id-2 div.sk-label input.sk-toggleable__control:checked~label.sk-toggleable__label {background-color: #d4ebff;}#sk-container-id-2 input.sk-hidden--visually {border: 0;clip: rect(1px 1px 1px 1px);clip: rect(1px, 1px, 1px, 1px);height: 1px;margin: -1px;overflow: hidden;padding: 0;position: absolute;width: 1px;}#sk-container-id-2 div.sk-estimator {font-family: monospace;background-color: #f0f8ff;border: 1px dotted black;border-radius: 0.25em;box-sizing: border-box;margin-bottom: 0.5em;}#sk-container-id-2 div.sk-estimator:hover {background-color: #d4ebff;}#sk-container-id-2 div.sk-parallel-item::after {content: \"\";width: 100%;border-bottom: 1px solid gray;flex-grow: 1;}#sk-container-id-2 div.sk-label:hover label.sk-toggleable__label {background-color: #d4ebff;}#sk-container-id-2 div.sk-serial::before {content: \"\";position: absolute;border-left: 1px solid gray;box-sizing: border-box;top: 0;bottom: 0;left: 50%;z-index: 0;}#sk-container-id-2 div.sk-serial {display: flex;flex-direction: column;align-items: center;background-color: white;padding-right: 0.2em;padding-left: 0.2em;position: relative;}#sk-container-id-2 div.sk-item {position: relative;z-index: 1;}#sk-container-id-2 div.sk-parallel {display: flex;align-items: stretch;justify-content: center;background-color: white;position: relative;}#sk-container-id-2 div.sk-item::before, #sk-container-id-2 div.sk-parallel-item::before {content: \"\";position: absolute;border-left: 1px solid gray;box-sizing: border-box;top: 0;bottom: 0;left: 50%;z-index: -1;}#sk-container-id-2 div.sk-parallel-item {display: flex;flex-direction: column;z-index: 1;position: relative;background-color: white;}#sk-container-id-2 div.sk-parallel-item:first-child::after {align-self: flex-end;width: 50%;}#sk-container-id-2 div.sk-parallel-item:last-child::after {align-self: flex-start;width: 50%;}#sk-container-id-2 div.sk-parallel-item:only-child::after {width: 0;}#sk-container-id-2 div.sk-dashed-wrapped {border: 1px dashed gray;margin: 0 0.4em 0.5em 0.4em;box-sizing: border-box;padding-bottom: 0.4em;background-color: white;}#sk-container-id-2 div.sk-label label {font-family: monospace;font-weight: bold;display: inline-block;line-height: 1.2em;}#sk-container-id-2 div.sk-label-container {text-align: center;}#sk-container-id-2 div.sk-container {/* jupyter's `normalize.less` sets `[hidden] { display: none; }` but bootstrap.min.css set `[hidden] { display: none !important; }` so we also need the `!important` here to be able to override the default hidden behavior on the sphinx rendered scikit-learn.org. See: https://github.com/scikit-learn/scikit-learn/issues/21755 */display: inline-block !important;position: relative;}#sk-container-id-2 div.sk-text-repr-fallback {display: none;}</style><div id=\"sk-container-id-2\" class=\"sk-top-container\"><div class=\"sk-text-repr-fallback\"><pre>DecisionTreeClassifier(criterion=&#x27;entropy&#x27;, random_state=10)</pre><b>In a Jupyter environment, please rerun this cell to show the HTML representation or trust the notebook. <br />On GitHub, the HTML representation is unable to render, please try loading this page with nbviewer.org.</b></div><div class=\"sk-container\" hidden><div class=\"sk-item\"><div class=\"sk-estimator sk-toggleable\"><input class=\"sk-toggleable__control sk-hidden--visually\" id=\"sk-estimator-id-2\" type=\"checkbox\" checked><label for=\"sk-estimator-id-2\" class=\"sk-toggleable__label sk-toggleable__label-arrow\">DecisionTreeClassifier</label><div class=\"sk-toggleable__content\"><pre>DecisionTreeClassifier(criterion=&#x27;entropy&#x27;, random_state=10)</pre></div></div></div></div></div>"
      ],
      "text/plain": [
       "DecisionTreeClassifier(criterion='entropy', random_state=10)"
      ]
     },
     "execution_count": 19,
     "metadata": {},
     "output_type": "execute_result"
    }
   ],
   "source": [
    "dt_model = DecisionTreeClassifier(criterion = \"entropy\", random_state = 10)\n",
    "dt_model.fit(data_x,data_y_wqs)"
   ]
  },
  {
   "cell_type": "code",
   "execution_count": 20,
   "id": "ffa664ea",
   "metadata": {},
   "outputs": [
    {
     "name": "stdout",
     "output_type": "stream",
     "text": [
      "K Fold Validation- DT model - for all features- Train & Validation sets\n",
      "Accuracy: 0.9726\n",
      "Precision: 0.9727\n",
      "Recall: 0.9726\n",
      "F1 score: 0.9726\n"
     ]
    }
   ],
   "source": [
    "## model evaluation - train & val set\n",
    "\n",
    "scores = {'accuracy': 'accuracy',\n",
    "           'precision': make_scorer(precision_score, average='weighted'),\n",
    "           'recall': make_scorer(recall_score, average='weighted'),\n",
    "           'f1': make_scorer(f1_score, average='weighted'),\n",
    "           }\n",
    "\n",
    "\n",
    "dt_score = cross_validate(dt_model, data_x, data_y_wqs, scoring=scores, \n",
    "                           cv=k_fold_splits, n_jobs=-1, error_score=\"raise\")\n",
    "\n",
    "accuracy = np.mean(dt_score['test_accuracy'])\n",
    "precision = np.mean(dt_score['test_precision'])\n",
    "recall = np.mean(dt_score['test_recall'])\n",
    "f1 = np.mean(dt_score['test_f1'])\n",
    "\n",
    "print('K Fold Validation- DT model - for all features- Train & Validation sets')\n",
    "print(f'Accuracy: {accuracy:.4f}')\n",
    "print(f'Precision: {precision:.4f}')\n",
    "print(f'Recall: {recall:.4f}')\n",
    "print(f'F1 score: {f1:.4f}')\n"
   ]
  },
  {
   "cell_type": "code",
   "execution_count": 21,
   "id": "c1352052",
   "metadata": {},
   "outputs": [
    {
     "name": "stdout",
     "output_type": "stream",
     "text": [
      "K Fold Validation- DT model- for all features- Test set\n",
      "Confusion Matrix: \n",
      "[[ 23   0   0  10   3]\n",
      " [  0   0   6   8   0]\n",
      " [ 18   0 144 200   0]\n",
      " [ 36   0  17 110   0]\n",
      " [  6   0   0   5  53]]\n",
      "\n",
      "Classification report : \n",
      "                          precision    recall  f1-score   support\n",
      "\n",
      "                    Bad       0.28      0.64      0.39        36\n",
      "              Excellent       0.00      0.00      0.00        14\n",
      "                   Good       0.86      0.40      0.54       362\n",
      "                 Medium       0.33      0.67      0.44       163\n",
      "Unsuitable for drinking       0.95      0.83      0.88        64\n",
      "\n",
      "               accuracy                           0.52       639\n",
      "              macro avg       0.48      0.51      0.45       639\n",
      "           weighted avg       0.68      0.52      0.53       639\n",
      "\n"
     ]
    },
    {
     "name": "stderr",
     "output_type": "stream",
     "text": [
      "C:\\Users\\sweth\\anaconda3\\lib\\site-packages\\sklearn\\metrics\\_classification.py:1334: UndefinedMetricWarning: Precision and F-score are ill-defined and being set to 0.0 in labels with no predicted samples. Use `zero_division` parameter to control this behavior.\n",
      "  _warn_prf(average, modifier, msg_start, len(result))\n",
      "C:\\Users\\sweth\\anaconda3\\lib\\site-packages\\sklearn\\metrics\\_classification.py:1334: UndefinedMetricWarning: Precision and F-score are ill-defined and being set to 0.0 in labels with no predicted samples. Use `zero_division` parameter to control this behavior.\n",
      "  _warn_prf(average, modifier, msg_start, len(result))\n",
      "C:\\Users\\sweth\\anaconda3\\lib\\site-packages\\sklearn\\metrics\\_classification.py:1334: UndefinedMetricWarning: Precision and F-score are ill-defined and being set to 0.0 in labels with no predicted samples. Use `zero_division` parameter to control this behavior.\n",
      "  _warn_prf(average, modifier, msg_start, len(result))\n"
     ]
    }
   ],
   "source": [
    "### Test set\n",
    "\n",
    "\n",
    "y_pred_test_dt = dt_model.predict(x_test)\n",
    "\n",
    "\n",
    "print('K Fold Validation- DT model- for all features- Test set')\n",
    "\n",
    "print(f'Confusion Matrix: \\n{confusion_matrix(y_test, y_pred_test_dt)}')\n",
    "print(f'\\nClassification report : \\n {classification_report(y_test, y_pred_test_dt)}')"
   ]
  },
  {
   "cell_type": "code",
   "execution_count": 52,
   "id": "15dc18c7",
   "metadata": {},
   "outputs": [
    {
     "name": "stdout",
     "output_type": "stream",
     "text": [
      "Decision Tree\n"
     ]
    },
    {
     "data": {
      "text/html": [
       "<div>\n",
       "<style scoped>\n",
       "    .dataframe tbody tr th:only-of-type {\n",
       "        vertical-align: middle;\n",
       "    }\n",
       "\n",
       "    .dataframe tbody tr th {\n",
       "        vertical-align: top;\n",
       "    }\n",
       "\n",
       "    .dataframe thead th {\n",
       "        text-align: right;\n",
       "    }\n",
       "</style>\n",
       "<table border=\"1\" class=\"dataframe\">\n",
       "  <thead>\n",
       "    <tr style=\"text-align: right;\">\n",
       "      <th></th>\n",
       "      <th>Type</th>\n",
       "      <th>Accuracy</th>\n",
       "    </tr>\n",
       "  </thead>\n",
       "  <tbody>\n",
       "    <tr>\n",
       "      <th>0</th>\n",
       "      <td>with PCA</td>\n",
       "      <td>0.16</td>\n",
       "    </tr>\n",
       "    <tr>\n",
       "      <th>1</th>\n",
       "      <td>with correlated features</td>\n",
       "      <td>0.42</td>\n",
       "    </tr>\n",
       "    <tr>\n",
       "      <th>2</th>\n",
       "      <td>with all features</td>\n",
       "      <td>0.52</td>\n",
       "    </tr>\n",
       "  </tbody>\n",
       "</table>\n",
       "</div>"
      ],
      "text/plain": [
       "                       Type  Accuracy\n",
       "0                  with PCA      0.16\n",
       "1  with correlated features      0.42\n",
       "2         with all features      0.52"
      ]
     },
     "execution_count": 52,
     "metadata": {},
     "output_type": "execute_result"
    }
   ],
   "source": [
    "dt_results = pd.DataFrame({'Type':['with PCA','with correlated features','with all features'], 'Accuracy':[ 0.16,0.42,0.52]})\n",
    "print('Decision Tree')\n",
    "dt_results"
   ]
  },
  {
   "cell_type": "markdown",
   "id": "6c7d05a2",
   "metadata": {},
   "source": [
    "#### In DT, all features gives best results comparitively"
   ]
  },
  {
   "cell_type": "markdown",
   "id": "a2a21fc9",
   "metadata": {},
   "source": [
    "## SVM"
   ]
  },
  {
   "cell_type": "code",
   "execution_count": 22,
   "id": "3fbc90c9",
   "metadata": {},
   "outputs": [],
   "source": [
    "from sklearn import svm"
   ]
  },
  {
   "cell_type": "markdown",
   "id": "2511d54a",
   "metadata": {},
   "source": [
    "##### With PCA"
   ]
  },
  {
   "cell_type": "code",
   "execution_count": 23,
   "id": "05c80146",
   "metadata": {},
   "outputs": [
    {
     "name": "stdout",
     "output_type": "stream",
     "text": [
      "Train-Val split- SVM model- PCA\n",
      "Confusion Matrix: \n",
      "[[ 19   0   3   0]\n",
      " [  0  96   4   0]\n",
      " [  0  24 118   0]\n",
      " [  2   0   0 100]]\n",
      "\n",
      "Classification report : \n",
      "                          precision    recall  f1-score   support\n",
      "\n",
      "                    Bad       0.90      0.86      0.88        22\n",
      "                   Good       0.80      0.96      0.87       100\n",
      "                 Medium       0.94      0.83      0.88       142\n",
      "Unsuitable for drinking       1.00      0.98      0.99       102\n",
      "\n",
      "               accuracy                           0.91       366\n",
      "              macro avg       0.91      0.91      0.91       366\n",
      "           weighted avg       0.92      0.91      0.91       366\n",
      "\n"
     ]
    }
   ],
   "source": [
    "## using train & validation set\n",
    "pca_svm = svm.SVC(kernel='linear', gamma='auto', C=2, random_state=10)\n",
    "pca_svm.fit(x_train_pca, y_train)\n",
    "y_pred_val_pca_svm = pca_svm.predict(x_val_pca)\n",
    "\n",
    "print('Train-Val split- SVM model- PCA')\n",
    "cm_pca_svm = confusion_matrix(y_val, y_pred_val_pca_svm)\n",
    "print(f'Confusion Matrix: \\n{cm_pca_svm}')\n",
    "print(f'\\nClassification report : \\n {classification_report(y_val, y_pred_val_pca_svm)}')"
   ]
  },
  {
   "cell_type": "code",
   "execution_count": 24,
   "id": "1eac5b15",
   "metadata": {},
   "outputs": [
    {
     "name": "stdout",
     "output_type": "stream",
     "text": [
      "Test split- SVM model- PCA\n",
      "Confusion Matrix: \n",
      "[[ 35   0   1   0   0]\n",
      " [  5   0   3   6   0]\n",
      " [  3   0  15 344   0]\n",
      " [ 53   0   5 105   0]\n",
      " [ 37   0   4   2  21]]\n",
      "\n",
      "Classification report : \n",
      "                          precision    recall  f1-score   support\n",
      "\n",
      "                    Bad       0.26      0.97      0.41        36\n",
      "              Excellent       0.00      0.00      0.00        14\n",
      "                   Good       0.54      0.04      0.08       362\n",
      "                 Medium       0.23      0.64      0.34       163\n",
      "Unsuitable for drinking       1.00      0.33      0.49        64\n",
      "\n",
      "               accuracy                           0.28       639\n",
      "              macro avg       0.41      0.40      0.26       639\n",
      "           weighted avg       0.48      0.28      0.20       639\n",
      "\n"
     ]
    },
    {
     "name": "stderr",
     "output_type": "stream",
     "text": [
      "C:\\Users\\sweth\\anaconda3\\lib\\site-packages\\sklearn\\metrics\\_classification.py:1334: UndefinedMetricWarning: Precision and F-score are ill-defined and being set to 0.0 in labels with no predicted samples. Use `zero_division` parameter to control this behavior.\n",
      "  _warn_prf(average, modifier, msg_start, len(result))\n",
      "C:\\Users\\sweth\\anaconda3\\lib\\site-packages\\sklearn\\metrics\\_classification.py:1334: UndefinedMetricWarning: Precision and F-score are ill-defined and being set to 0.0 in labels with no predicted samples. Use `zero_division` parameter to control this behavior.\n",
      "  _warn_prf(average, modifier, msg_start, len(result))\n",
      "C:\\Users\\sweth\\anaconda3\\lib\\site-packages\\sklearn\\metrics\\_classification.py:1334: UndefinedMetricWarning: Precision and F-score are ill-defined and being set to 0.0 in labels with no predicted samples. Use `zero_division` parameter to control this behavior.\n",
      "  _warn_prf(average, modifier, msg_start, len(result))\n"
     ]
    }
   ],
   "source": [
    "## test set\n",
    "\n",
    "y_pred_test_pca_svm = pca_svm.predict(x_test_pca)\n",
    "\n",
    "print('Test split- SVM model- PCA')\n",
    "cm_pca_test_svm = confusion_matrix(y_test, y_pred_test_pca_svm)\n",
    "print(f'Confusion Matrix: \\n{cm_pca_test_svm}')\n",
    "print(f'\\nClassification report : \\n {classification_report(y_test, y_pred_test_pca_svm)}')"
   ]
  },
  {
   "cell_type": "markdown",
   "id": "f40e0e9f",
   "metadata": {},
   "source": [
    "##### As SVM is a computationally costly model, the time taken to fit models for only highly correlation features and all features was very high, thus not feasible"
   ]
  },
  {
   "cell_type": "code",
   "execution_count": null,
   "id": "ae78d8d8",
   "metadata": {},
   "outputs": [],
   "source": []
  },
  {
   "cell_type": "markdown",
   "id": "89cc0964",
   "metadata": {},
   "source": [
    "## XGBoost"
   ]
  },
  {
   "cell_type": "code",
   "execution_count": 34,
   "id": "d0ea48ff",
   "metadata": {},
   "outputs": [],
   "source": [
    "# pip install xgboost\n",
    "from xgboost import XGBClassifier\n",
    "import xgboost as xgb\n",
    "\n",
    "y_train_xgb = y_train.replace(['Bad','Good','Medium','Unsuitable for drinking','Excellent'],[0,1,2,3,4])\n",
    "y_val_xgb = y_val.replace(['Bad','Good','Medium','Unsuitable for drinking','Excellent'],[0,1,2,3,4])\n",
    "y_test_xgb = y_test.replace(['Bad','Good','Medium','Unsuitable for drinking','Excellent'],[0,1,2,3,4])\n",
    "data_y_corr_xgb = data_y_corr.replace(['Bad','Good','Medium','Unsuitable for drinking','Excellent'],[0,1,2,3,4])\n",
    "y_test_corr_xgb = y_test_corr.replace(['Bad','Good','Medium','Unsuitable for drinking','Excellent'],[0,1,2,3,4])\n",
    "data_y_wqs_xgb = data_y_wqs.replace(['Bad','Good','Medium','Unsuitable for drinking','Excellent'],[0,1,2,3,4])"
   ]
  },
  {
   "cell_type": "markdown",
   "id": "29b1d492",
   "metadata": {},
   "source": [
    "##### With PCA"
   ]
  },
  {
   "cell_type": "code",
   "execution_count": 35,
   "id": "52195e95",
   "metadata": {},
   "outputs": [
    {
     "name": "stdout",
     "output_type": "stream",
     "text": [
      "Train-Val split- XGBoost model- PCA\n",
      "Confusion Matrix: \n",
      "[[ 18   1   1   2]\n",
      " [  0  98   2   0]\n",
      " [  0  10 132   0]\n",
      " [  0   0   0 102]]\n",
      "\n",
      "Classification report : \n",
      "               precision    recall  f1-score   support\n",
      "\n",
      "           0       1.00      0.82      0.90        22\n",
      "           1       0.90      0.98      0.94       100\n",
      "           2       0.98      0.93      0.95       142\n",
      "           3       0.98      1.00      0.99       102\n",
      "\n",
      "    accuracy                           0.96       366\n",
      "   macro avg       0.96      0.93      0.95       366\n",
      "weighted avg       0.96      0.96      0.96       366\n",
      "\n"
     ]
    }
   ],
   "source": [
    "## using train & validation set\n",
    "pca_xgb = XGBClassifier(random_state=10, n_estimators=500)\n",
    "pca_xgb.fit(x_train_pca, y_train_xgb)\n",
    "y_pred_val_pca_xbg = pca_xgb.predict(x_val_pca)\n",
    "\n",
    "print('Train-Val split- XGBoost model- PCA')\n",
    "cm_pca_xgb = confusion_matrix(y_val_xgb, y_pred_val_pca_xbg)\n",
    "print(f'Confusion Matrix: \\n{cm_pca_xgb}')\n",
    "print(f'\\nClassification report : \\n {classification_report(y_val_xgb, y_pred_val_pca_xbg)}')"
   ]
  },
  {
   "cell_type": "code",
   "execution_count": 37,
   "id": "3d5a8b47",
   "metadata": {},
   "outputs": [
    {
     "name": "stdout",
     "output_type": "stream",
     "text": [
      "Test split- SVM model- PCA\n",
      "Confusion Matrix: \n",
      "[[ 16   2  11   7   0]\n",
      " [ 33  13 303  13   0]\n",
      " [ 74   4  64  21   0]\n",
      " [ 14   4  15  31   0]\n",
      " [  1   2   9   2   0]]\n",
      "\n",
      "Classification report : \n",
      "               precision    recall  f1-score   support\n",
      "\n",
      "           0       0.12      0.44      0.18        36\n",
      "           1       0.52      0.04      0.07       362\n",
      "           2       0.16      0.39      0.23       163\n",
      "           3       0.42      0.48      0.45        64\n",
      "           4       0.00      0.00      0.00        14\n",
      "\n",
      "    accuracy                           0.19       639\n",
      "   macro avg       0.24      0.27      0.19       639\n",
      "weighted avg       0.38      0.19      0.15       639\n",
      "\n"
     ]
    },
    {
     "name": "stderr",
     "output_type": "stream",
     "text": [
      "C:\\Users\\sweth\\anaconda3\\lib\\site-packages\\sklearn\\metrics\\_classification.py:1334: UndefinedMetricWarning: Precision and F-score are ill-defined and being set to 0.0 in labels with no predicted samples. Use `zero_division` parameter to control this behavior.\n",
      "  _warn_prf(average, modifier, msg_start, len(result))\n",
      "C:\\Users\\sweth\\anaconda3\\lib\\site-packages\\sklearn\\metrics\\_classification.py:1334: UndefinedMetricWarning: Precision and F-score are ill-defined and being set to 0.0 in labels with no predicted samples. Use `zero_division` parameter to control this behavior.\n",
      "  _warn_prf(average, modifier, msg_start, len(result))\n",
      "C:\\Users\\sweth\\anaconda3\\lib\\site-packages\\sklearn\\metrics\\_classification.py:1334: UndefinedMetricWarning: Precision and F-score are ill-defined and being set to 0.0 in labels with no predicted samples. Use `zero_division` parameter to control this behavior.\n",
      "  _warn_prf(average, modifier, msg_start, len(result))\n"
     ]
    }
   ],
   "source": [
    "## test set\n",
    "\n",
    "y_pred_test_pca_xgb = pca_xgb.predict(x_test_pca)\n",
    "\n",
    "\n",
    "print('Test split- SVM model- PCA')\n",
    "cm_pca_test_xgb = confusion_matrix(y_test_xgb, y_pred_test_pca_xgb)\n",
    "print(f'Confusion Matrix: \\n{cm_pca_test_xgb}')\n",
    "print(f'\\nClassification report : \\n {classification_report(y_test_xgb, y_pred_test_pca_xgb)}')"
   ]
  },
  {
   "cell_type": "markdown",
   "id": "32dccb70",
   "metadata": {},
   "source": [
    "##### Only high correlation features"
   ]
  },
  {
   "cell_type": "code",
   "execution_count": 38,
   "id": "af989c9d",
   "metadata": {},
   "outputs": [
    {
     "data": {
      "text/html": [
       "<style>#sk-container-id-3 {color: black;background-color: white;}#sk-container-id-3 pre{padding: 0;}#sk-container-id-3 div.sk-toggleable {background-color: white;}#sk-container-id-3 label.sk-toggleable__label {cursor: pointer;display: block;width: 100%;margin-bottom: 0;padding: 0.3em;box-sizing: border-box;text-align: center;}#sk-container-id-3 label.sk-toggleable__label-arrow:before {content: \"▸\";float: left;margin-right: 0.25em;color: #696969;}#sk-container-id-3 label.sk-toggleable__label-arrow:hover:before {color: black;}#sk-container-id-3 div.sk-estimator:hover label.sk-toggleable__label-arrow:before {color: black;}#sk-container-id-3 div.sk-toggleable__content {max-height: 0;max-width: 0;overflow: hidden;text-align: left;background-color: #f0f8ff;}#sk-container-id-3 div.sk-toggleable__content pre {margin: 0.2em;color: black;border-radius: 0.25em;background-color: #f0f8ff;}#sk-container-id-3 input.sk-toggleable__control:checked~div.sk-toggleable__content {max-height: 200px;max-width: 100%;overflow: auto;}#sk-container-id-3 input.sk-toggleable__control:checked~label.sk-toggleable__label-arrow:before {content: \"▾\";}#sk-container-id-3 div.sk-estimator input.sk-toggleable__control:checked~label.sk-toggleable__label {background-color: #d4ebff;}#sk-container-id-3 div.sk-label input.sk-toggleable__control:checked~label.sk-toggleable__label {background-color: #d4ebff;}#sk-container-id-3 input.sk-hidden--visually {border: 0;clip: rect(1px 1px 1px 1px);clip: rect(1px, 1px, 1px, 1px);height: 1px;margin: -1px;overflow: hidden;padding: 0;position: absolute;width: 1px;}#sk-container-id-3 div.sk-estimator {font-family: monospace;background-color: #f0f8ff;border: 1px dotted black;border-radius: 0.25em;box-sizing: border-box;margin-bottom: 0.5em;}#sk-container-id-3 div.sk-estimator:hover {background-color: #d4ebff;}#sk-container-id-3 div.sk-parallel-item::after {content: \"\";width: 100%;border-bottom: 1px solid gray;flex-grow: 1;}#sk-container-id-3 div.sk-label:hover label.sk-toggleable__label {background-color: #d4ebff;}#sk-container-id-3 div.sk-serial::before {content: \"\";position: absolute;border-left: 1px solid gray;box-sizing: border-box;top: 0;bottom: 0;left: 50%;z-index: 0;}#sk-container-id-3 div.sk-serial {display: flex;flex-direction: column;align-items: center;background-color: white;padding-right: 0.2em;padding-left: 0.2em;position: relative;}#sk-container-id-3 div.sk-item {position: relative;z-index: 1;}#sk-container-id-3 div.sk-parallel {display: flex;align-items: stretch;justify-content: center;background-color: white;position: relative;}#sk-container-id-3 div.sk-item::before, #sk-container-id-3 div.sk-parallel-item::before {content: \"\";position: absolute;border-left: 1px solid gray;box-sizing: border-box;top: 0;bottom: 0;left: 50%;z-index: -1;}#sk-container-id-3 div.sk-parallel-item {display: flex;flex-direction: column;z-index: 1;position: relative;background-color: white;}#sk-container-id-3 div.sk-parallel-item:first-child::after {align-self: flex-end;width: 50%;}#sk-container-id-3 div.sk-parallel-item:last-child::after {align-self: flex-start;width: 50%;}#sk-container-id-3 div.sk-parallel-item:only-child::after {width: 0;}#sk-container-id-3 div.sk-dashed-wrapped {border: 1px dashed gray;margin: 0 0.4em 0.5em 0.4em;box-sizing: border-box;padding-bottom: 0.4em;background-color: white;}#sk-container-id-3 div.sk-label label {font-family: monospace;font-weight: bold;display: inline-block;line-height: 1.2em;}#sk-container-id-3 div.sk-label-container {text-align: center;}#sk-container-id-3 div.sk-container {/* jupyter's `normalize.less` sets `[hidden] { display: none; }` but bootstrap.min.css set `[hidden] { display: none !important; }` so we also need the `!important` here to be able to override the default hidden behavior on the sphinx rendered scikit-learn.org. See: https://github.com/scikit-learn/scikit-learn/issues/21755 */display: inline-block !important;position: relative;}#sk-container-id-3 div.sk-text-repr-fallback {display: none;}</style><div id=\"sk-container-id-3\" class=\"sk-top-container\"><div class=\"sk-text-repr-fallback\"><pre>XGBClassifier(base_score=0.5, booster=&#x27;gbtree&#x27;, callbacks=None,\n",
       "              colsample_bylevel=1, colsample_bynode=1, colsample_bytree=1,\n",
       "              early_stopping_rounds=None, enable_categorical=False,\n",
       "              eval_metric=None, feature_types=None, gamma=0, gpu_id=-1,\n",
       "              grow_policy=&#x27;depthwise&#x27;, importance_type=None,\n",
       "              interaction_constraints=&#x27;&#x27;, learning_rate=0.300000012,\n",
       "              max_bin=256, max_cat_threshold=64, max_cat_to_onehot=4,\n",
       "              max_delta_step=0, max_depth=6, max_leaves=0, min_child_weight=1,\n",
       "              missing=nan, monotone_constraints=&#x27;()&#x27;, n_estimators=500,\n",
       "              n_jobs=0, num_parallel_tree=1, objective=&#x27;multi:softprob&#x27;,\n",
       "              predictor=&#x27;auto&#x27;, ...)</pre><b>In a Jupyter environment, please rerun this cell to show the HTML representation or trust the notebook. <br />On GitHub, the HTML representation is unable to render, please try loading this page with nbviewer.org.</b></div><div class=\"sk-container\" hidden><div class=\"sk-item\"><div class=\"sk-estimator sk-toggleable\"><input class=\"sk-toggleable__control sk-hidden--visually\" id=\"sk-estimator-id-3\" type=\"checkbox\" checked><label for=\"sk-estimator-id-3\" class=\"sk-toggleable__label sk-toggleable__label-arrow\">XGBClassifier</label><div class=\"sk-toggleable__content\"><pre>XGBClassifier(base_score=0.5, booster=&#x27;gbtree&#x27;, callbacks=None,\n",
       "              colsample_bylevel=1, colsample_bynode=1, colsample_bytree=1,\n",
       "              early_stopping_rounds=None, enable_categorical=False,\n",
       "              eval_metric=None, feature_types=None, gamma=0, gpu_id=-1,\n",
       "              grow_policy=&#x27;depthwise&#x27;, importance_type=None,\n",
       "              interaction_constraints=&#x27;&#x27;, learning_rate=0.300000012,\n",
       "              max_bin=256, max_cat_threshold=64, max_cat_to_onehot=4,\n",
       "              max_delta_step=0, max_depth=6, max_leaves=0, min_child_weight=1,\n",
       "              missing=nan, monotone_constraints=&#x27;()&#x27;, n_estimators=500,\n",
       "              n_jobs=0, num_parallel_tree=1, objective=&#x27;multi:softprob&#x27;,\n",
       "              predictor=&#x27;auto&#x27;, ...)</pre></div></div></div></div></div>"
      ],
      "text/plain": [
       "XGBClassifier(base_score=0.5, booster='gbtree', callbacks=None,\n",
       "              colsample_bylevel=1, colsample_bynode=1, colsample_bytree=1,\n",
       "              early_stopping_rounds=None, enable_categorical=False,\n",
       "              eval_metric=None, feature_types=None, gamma=0, gpu_id=-1,\n",
       "              grow_policy='depthwise', importance_type=None,\n",
       "              interaction_constraints='', learning_rate=0.300000012,\n",
       "              max_bin=256, max_cat_threshold=64, max_cat_to_onehot=4,\n",
       "              max_delta_step=0, max_depth=6, max_leaves=0, min_child_weight=1,\n",
       "              missing=nan, monotone_constraints='()', n_estimators=500,\n",
       "              n_jobs=0, num_parallel_tree=1, objective='multi:softprob',\n",
       "              predictor='auto', ...)"
      ]
     },
     "execution_count": 38,
     "metadata": {},
     "output_type": "execute_result"
    }
   ],
   "source": [
    "corr_xgb = XGBClassifier(random_state=10,n_estimators=500)\n",
    "corr_xgb.fit(data_x_corr,data_y_corr_xgb)"
   ]
  },
  {
   "cell_type": "code",
   "execution_count": 39,
   "id": "df187293",
   "metadata": {},
   "outputs": [
    {
     "name": "stdout",
     "output_type": "stream",
     "text": [
      "K Fold Validation- XGBoost model- for correlation features- Train & Validation sets\n",
      "Accuracy: 0.9852\n",
      "Precision: 0.9855\n",
      "Recall: 0.9852\n",
      "F1 score: 0.9852\n"
     ]
    }
   ],
   "source": [
    "## model evaluation - train & validation set\n",
    "from sklearn.model_selection import cross_validate\n",
    "from sklearn.metrics import make_scorer\n",
    "from sklearn.metrics import precision_score\n",
    "from sklearn.metrics import recall_score\n",
    "from sklearn.metrics import f1_score\n",
    "\n",
    "scores = {'accuracy': 'accuracy',\n",
    "           'precision': make_scorer(precision_score, average='weighted'),\n",
    "           'recall': make_scorer(recall_score, average='weighted'),\n",
    "           'f1': make_scorer(f1_score, average='weighted'),\n",
    "           }\n",
    "\n",
    "\n",
    "xgb_score_corr = cross_validate(corr_xgb, data_x_corr, data_y_corr_xgb, scoring=scores, \n",
    "                           cv=k_fold_splits, n_jobs=-1, error_score=\"raise\")\n",
    "\n",
    "accuracy_corr = np.mean(xgb_score_corr['test_accuracy'])\n",
    "precision_corr = np.mean(xgb_score_corr['test_precision'])\n",
    "recall_corr = np.mean(xgb_score_corr['test_recall'])\n",
    "f1_corr = np.mean(xgb_score_corr['test_f1'])\n",
    "\n",
    "print('K Fold Validation- XGBoost model- for correlation features- Train & Validation sets')\n",
    "print(f'Accuracy: {accuracy_corr:.4f}')\n",
    "print(f'Precision: {precision_corr:.4f}')\n",
    "print(f'Recall: {recall_corr:.4f}')\n",
    "print(f'F1 score: {f1_corr:.4f}')"
   ]
  },
  {
   "cell_type": "code",
   "execution_count": 41,
   "id": "37d50d6f",
   "metadata": {},
   "outputs": [
    {
     "name": "stdout",
     "output_type": "stream",
     "text": [
      "K Fold Validation- XGBoost model- for correlation features- Test set\n",
      "Confusion Matrix: \n",
      "[[ 23   1  10   2   0]\n",
      " [  0 305  57   0   0]\n",
      " [ 12  29 122   0   0]\n",
      " [  6   1   4  53   0]\n",
      " [  0  13   1   0   0]]\n",
      "\n",
      "Classification report : \n",
      "               precision    recall  f1-score   support\n",
      "\n",
      "           0       0.56      0.64      0.60        36\n",
      "           1       0.87      0.84      0.86       362\n",
      "           2       0.63      0.75      0.68       163\n",
      "           3       0.96      0.83      0.89        64\n",
      "           4       0.00      0.00      0.00        14\n",
      "\n",
      "    accuracy                           0.79       639\n",
      "   macro avg       0.61      0.61      0.61       639\n",
      "weighted avg       0.78      0.79      0.78       639\n",
      "\n"
     ]
    },
    {
     "name": "stderr",
     "output_type": "stream",
     "text": [
      "C:\\Users\\sweth\\anaconda3\\lib\\site-packages\\sklearn\\metrics\\_classification.py:1334: UndefinedMetricWarning: Precision and F-score are ill-defined and being set to 0.0 in labels with no predicted samples. Use `zero_division` parameter to control this behavior.\n",
      "  _warn_prf(average, modifier, msg_start, len(result))\n",
      "C:\\Users\\sweth\\anaconda3\\lib\\site-packages\\sklearn\\metrics\\_classification.py:1334: UndefinedMetricWarning: Precision and F-score are ill-defined and being set to 0.0 in labels with no predicted samples. Use `zero_division` parameter to control this behavior.\n",
      "  _warn_prf(average, modifier, msg_start, len(result))\n",
      "C:\\Users\\sweth\\anaconda3\\lib\\site-packages\\sklearn\\metrics\\_classification.py:1334: UndefinedMetricWarning: Precision and F-score are ill-defined and being set to 0.0 in labels with no predicted samples. Use `zero_division` parameter to control this behavior.\n",
      "  _warn_prf(average, modifier, msg_start, len(result))\n"
     ]
    }
   ],
   "source": [
    "### Test set\n",
    "\n",
    "\n",
    "y_pred_test_corr_xbg = corr_xgb.predict(x_test_corr)\n",
    "\n",
    "\n",
    "print('K Fold Validation- XGBoost model- for correlation features- Test set')\n",
    "\n",
    "print(f'Confusion Matrix: \\n{confusion_matrix(y_test_corr_xgb, y_pred_test_corr_xbg)}')\n",
    "print(f'\\nClassification report : \\n {classification_report(y_test_corr_xgb, y_pred_test_corr_xbg)}')"
   ]
  },
  {
   "cell_type": "markdown",
   "id": "6e7595b1",
   "metadata": {},
   "source": [
    "##### All features"
   ]
  },
  {
   "cell_type": "code",
   "execution_count": 42,
   "id": "a34e41b7",
   "metadata": {},
   "outputs": [
    {
     "data": {
      "text/html": [
       "<style>#sk-container-id-4 {color: black;background-color: white;}#sk-container-id-4 pre{padding: 0;}#sk-container-id-4 div.sk-toggleable {background-color: white;}#sk-container-id-4 label.sk-toggleable__label {cursor: pointer;display: block;width: 100%;margin-bottom: 0;padding: 0.3em;box-sizing: border-box;text-align: center;}#sk-container-id-4 label.sk-toggleable__label-arrow:before {content: \"▸\";float: left;margin-right: 0.25em;color: #696969;}#sk-container-id-4 label.sk-toggleable__label-arrow:hover:before {color: black;}#sk-container-id-4 div.sk-estimator:hover label.sk-toggleable__label-arrow:before {color: black;}#sk-container-id-4 div.sk-toggleable__content {max-height: 0;max-width: 0;overflow: hidden;text-align: left;background-color: #f0f8ff;}#sk-container-id-4 div.sk-toggleable__content pre {margin: 0.2em;color: black;border-radius: 0.25em;background-color: #f0f8ff;}#sk-container-id-4 input.sk-toggleable__control:checked~div.sk-toggleable__content {max-height: 200px;max-width: 100%;overflow: auto;}#sk-container-id-4 input.sk-toggleable__control:checked~label.sk-toggleable__label-arrow:before {content: \"▾\";}#sk-container-id-4 div.sk-estimator input.sk-toggleable__control:checked~label.sk-toggleable__label {background-color: #d4ebff;}#sk-container-id-4 div.sk-label input.sk-toggleable__control:checked~label.sk-toggleable__label {background-color: #d4ebff;}#sk-container-id-4 input.sk-hidden--visually {border: 0;clip: rect(1px 1px 1px 1px);clip: rect(1px, 1px, 1px, 1px);height: 1px;margin: -1px;overflow: hidden;padding: 0;position: absolute;width: 1px;}#sk-container-id-4 div.sk-estimator {font-family: monospace;background-color: #f0f8ff;border: 1px dotted black;border-radius: 0.25em;box-sizing: border-box;margin-bottom: 0.5em;}#sk-container-id-4 div.sk-estimator:hover {background-color: #d4ebff;}#sk-container-id-4 div.sk-parallel-item::after {content: \"\";width: 100%;border-bottom: 1px solid gray;flex-grow: 1;}#sk-container-id-4 div.sk-label:hover label.sk-toggleable__label {background-color: #d4ebff;}#sk-container-id-4 div.sk-serial::before {content: \"\";position: absolute;border-left: 1px solid gray;box-sizing: border-box;top: 0;bottom: 0;left: 50%;z-index: 0;}#sk-container-id-4 div.sk-serial {display: flex;flex-direction: column;align-items: center;background-color: white;padding-right: 0.2em;padding-left: 0.2em;position: relative;}#sk-container-id-4 div.sk-item {position: relative;z-index: 1;}#sk-container-id-4 div.sk-parallel {display: flex;align-items: stretch;justify-content: center;background-color: white;position: relative;}#sk-container-id-4 div.sk-item::before, #sk-container-id-4 div.sk-parallel-item::before {content: \"\";position: absolute;border-left: 1px solid gray;box-sizing: border-box;top: 0;bottom: 0;left: 50%;z-index: -1;}#sk-container-id-4 div.sk-parallel-item {display: flex;flex-direction: column;z-index: 1;position: relative;background-color: white;}#sk-container-id-4 div.sk-parallel-item:first-child::after {align-self: flex-end;width: 50%;}#sk-container-id-4 div.sk-parallel-item:last-child::after {align-self: flex-start;width: 50%;}#sk-container-id-4 div.sk-parallel-item:only-child::after {width: 0;}#sk-container-id-4 div.sk-dashed-wrapped {border: 1px dashed gray;margin: 0 0.4em 0.5em 0.4em;box-sizing: border-box;padding-bottom: 0.4em;background-color: white;}#sk-container-id-4 div.sk-label label {font-family: monospace;font-weight: bold;display: inline-block;line-height: 1.2em;}#sk-container-id-4 div.sk-label-container {text-align: center;}#sk-container-id-4 div.sk-container {/* jupyter's `normalize.less` sets `[hidden] { display: none; }` but bootstrap.min.css set `[hidden] { display: none !important; }` so we also need the `!important` here to be able to override the default hidden behavior on the sphinx rendered scikit-learn.org. See: https://github.com/scikit-learn/scikit-learn/issues/21755 */display: inline-block !important;position: relative;}#sk-container-id-4 div.sk-text-repr-fallback {display: none;}</style><div id=\"sk-container-id-4\" class=\"sk-top-container\"><div class=\"sk-text-repr-fallback\"><pre>XGBClassifier(base_score=0.5, booster=&#x27;gbtree&#x27;, callbacks=None,\n",
       "              colsample_bylevel=1, colsample_bynode=1, colsample_bytree=1,\n",
       "              early_stopping_rounds=None, enable_categorical=False,\n",
       "              eval_metric=None, feature_types=None, gamma=0, gpu_id=-1,\n",
       "              grow_policy=&#x27;depthwise&#x27;, importance_type=None,\n",
       "              interaction_constraints=&#x27;&#x27;, learning_rate=0.300000012,\n",
       "              max_bin=256, max_cat_threshold=64, max_cat_to_onehot=4,\n",
       "              max_delta_step=0, max_depth=6, max_leaves=0, min_child_weight=1,\n",
       "              missing=nan, monotone_constraints=&#x27;()&#x27;, n_estimators=500,\n",
       "              n_jobs=0, num_parallel_tree=1, objective=&#x27;multi:softprob&#x27;,\n",
       "              predictor=&#x27;auto&#x27;, ...)</pre><b>In a Jupyter environment, please rerun this cell to show the HTML representation or trust the notebook. <br />On GitHub, the HTML representation is unable to render, please try loading this page with nbviewer.org.</b></div><div class=\"sk-container\" hidden><div class=\"sk-item\"><div class=\"sk-estimator sk-toggleable\"><input class=\"sk-toggleable__control sk-hidden--visually\" id=\"sk-estimator-id-4\" type=\"checkbox\" checked><label for=\"sk-estimator-id-4\" class=\"sk-toggleable__label sk-toggleable__label-arrow\">XGBClassifier</label><div class=\"sk-toggleable__content\"><pre>XGBClassifier(base_score=0.5, booster=&#x27;gbtree&#x27;, callbacks=None,\n",
       "              colsample_bylevel=1, colsample_bynode=1, colsample_bytree=1,\n",
       "              early_stopping_rounds=None, enable_categorical=False,\n",
       "              eval_metric=None, feature_types=None, gamma=0, gpu_id=-1,\n",
       "              grow_policy=&#x27;depthwise&#x27;, importance_type=None,\n",
       "              interaction_constraints=&#x27;&#x27;, learning_rate=0.300000012,\n",
       "              max_bin=256, max_cat_threshold=64, max_cat_to_onehot=4,\n",
       "              max_delta_step=0, max_depth=6, max_leaves=0, min_child_weight=1,\n",
       "              missing=nan, monotone_constraints=&#x27;()&#x27;, n_estimators=500,\n",
       "              n_jobs=0, num_parallel_tree=1, objective=&#x27;multi:softprob&#x27;,\n",
       "              predictor=&#x27;auto&#x27;, ...)</pre></div></div></div></div></div>"
      ],
      "text/plain": [
       "XGBClassifier(base_score=0.5, booster='gbtree', callbacks=None,\n",
       "              colsample_bylevel=1, colsample_bynode=1, colsample_bytree=1,\n",
       "              early_stopping_rounds=None, enable_categorical=False,\n",
       "              eval_metric=None, feature_types=None, gamma=0, gpu_id=-1,\n",
       "              grow_policy='depthwise', importance_type=None,\n",
       "              interaction_constraints='', learning_rate=0.300000012,\n",
       "              max_bin=256, max_cat_threshold=64, max_cat_to_onehot=4,\n",
       "              max_delta_step=0, max_depth=6, max_leaves=0, min_child_weight=1,\n",
       "              missing=nan, monotone_constraints='()', n_estimators=500,\n",
       "              n_jobs=0, num_parallel_tree=1, objective='multi:softprob',\n",
       "              predictor='auto', ...)"
      ]
     },
     "execution_count": 42,
     "metadata": {},
     "output_type": "execute_result"
    }
   ],
   "source": [
    "xgb_model = XGBClassifier(random_state=10,n_estimators=500)\n",
    "xgb_model.fit(data_x,data_y_wqs_xgb)"
   ]
  },
  {
   "cell_type": "code",
   "execution_count": 43,
   "id": "aca36186",
   "metadata": {},
   "outputs": [
    {
     "name": "stdout",
     "output_type": "stream",
     "text": [
      "K Fold Validation- XGBoost Model - for all features- Train & Validation sets\n",
      "Accuracy: 0.9841\n",
      "Precision: 0.9844\n",
      "Recall: 0.9841\n",
      "F1 score: 0.9841\n"
     ]
    }
   ],
   "source": [
    "## model evaluation - train & val set\n",
    "\n",
    "scores = {'accuracy': 'accuracy',\n",
    "           'precision': make_scorer(precision_score, average='weighted'),\n",
    "           'recall': make_scorer(recall_score, average='weighted'),\n",
    "           'f1': make_scorer(f1_score, average='weighted'),\n",
    "           }\n",
    "\n",
    "\n",
    "xgb_score = cross_validate(xgb_model, data_x, data_y_wqs_xgb, scoring=scores, \n",
    "                           cv=k_fold_splits, n_jobs=-1, error_score=\"raise\")\n",
    "\n",
    "accuracy = np.mean(xgb_score['test_accuracy'])\n",
    "precision = np.mean(xgb_score['test_precision'])\n",
    "recall = np.mean(xgb_score['test_recall'])\n",
    "f1 = np.mean(xgb_score['test_f1'])\n",
    "\n",
    "print('K Fold Validation- XGBoost Model - for all features- Train & Validation sets')\n",
    "print(f'Accuracy: {accuracy:.4f}')\n",
    "print(f'Precision: {precision:.4f}')\n",
    "print(f'Recall: {recall:.4f}')\n",
    "print(f'F1 score: {f1:.4f}')"
   ]
  },
  {
   "cell_type": "code",
   "execution_count": 44,
   "id": "c7201c8c",
   "metadata": {},
   "outputs": [
    {
     "name": "stdout",
     "output_type": "stream",
     "text": [
      "K Fold Validation- XGBoost model- for all features- Test set\n",
      "Confusion Matrix: \n",
      "[[ 22   1  11   2   0]\n",
      " [  0 295  67   0   0]\n",
      " [  8  24 131   0   0]\n",
      " [  5   0   6  53   0]\n",
      " [  0  13   1   0   0]]\n",
      "\n",
      "Classification report : \n",
      "               precision    recall  f1-score   support\n",
      "\n",
      "           0       0.63      0.61      0.62        36\n",
      "           1       0.89      0.81      0.85       362\n",
      "           2       0.61      0.80      0.69       163\n",
      "           3       0.96      0.83      0.89        64\n",
      "           4       0.00      0.00      0.00        14\n",
      "\n",
      "    accuracy                           0.78       639\n",
      "   macro avg       0.62      0.61      0.61       639\n",
      "weighted avg       0.79      0.78      0.78       639\n",
      "\n"
     ]
    },
    {
     "name": "stderr",
     "output_type": "stream",
     "text": [
      "C:\\Users\\sweth\\anaconda3\\lib\\site-packages\\sklearn\\metrics\\_classification.py:1334: UndefinedMetricWarning: Precision and F-score are ill-defined and being set to 0.0 in labels with no predicted samples. Use `zero_division` parameter to control this behavior.\n",
      "  _warn_prf(average, modifier, msg_start, len(result))\n",
      "C:\\Users\\sweth\\anaconda3\\lib\\site-packages\\sklearn\\metrics\\_classification.py:1334: UndefinedMetricWarning: Precision and F-score are ill-defined and being set to 0.0 in labels with no predicted samples. Use `zero_division` parameter to control this behavior.\n",
      "  _warn_prf(average, modifier, msg_start, len(result))\n",
      "C:\\Users\\sweth\\anaconda3\\lib\\site-packages\\sklearn\\metrics\\_classification.py:1334: UndefinedMetricWarning: Precision and F-score are ill-defined and being set to 0.0 in labels with no predicted samples. Use `zero_division` parameter to control this behavior.\n",
      "  _warn_prf(average, modifier, msg_start, len(result))\n"
     ]
    }
   ],
   "source": [
    "### Test set\n",
    "\n",
    "\n",
    "y_pred_test_xgb = xgb_model.predict(x_test)\n",
    "\n",
    "\n",
    "print('K Fold Validation- XGBoost model- for all features- Test set')\n",
    "\n",
    "print(f'Confusion Matrix: \\n{confusion_matrix(y_test_xgb, y_pred_test_xgb)}')\n",
    "print(f'\\nClassification report : \\n {classification_report(y_test_xgb, y_pred_test_xgb)}')"
   ]
  },
  {
   "cell_type": "code",
   "execution_count": 59,
   "id": "7e271700",
   "metadata": {},
   "outputs": [
    {
     "name": "stdout",
     "output_type": "stream",
     "text": [
      "XGBoost\n"
     ]
    },
    {
     "data": {
      "text/html": [
       "<div>\n",
       "<style scoped>\n",
       "    .dataframe tbody tr th:only-of-type {\n",
       "        vertical-align: middle;\n",
       "    }\n",
       "\n",
       "    .dataframe tbody tr th {\n",
       "        vertical-align: top;\n",
       "    }\n",
       "\n",
       "    .dataframe thead th {\n",
       "        text-align: right;\n",
       "    }\n",
       "</style>\n",
       "<table border=\"1\" class=\"dataframe\">\n",
       "  <thead>\n",
       "    <tr style=\"text-align: right;\">\n",
       "      <th></th>\n",
       "      <th>Type</th>\n",
       "      <th>Accuracy</th>\n",
       "    </tr>\n",
       "  </thead>\n",
       "  <tbody>\n",
       "    <tr>\n",
       "      <th>0</th>\n",
       "      <td>with PCA</td>\n",
       "      <td>0.19</td>\n",
       "    </tr>\n",
       "    <tr>\n",
       "      <th>1</th>\n",
       "      <td>with correlated features</td>\n",
       "      <td>0.79</td>\n",
       "    </tr>\n",
       "    <tr>\n",
       "      <th>2</th>\n",
       "      <td>with all features</td>\n",
       "      <td>0.78</td>\n",
       "    </tr>\n",
       "  </tbody>\n",
       "</table>\n",
       "</div>"
      ],
      "text/plain": [
       "                       Type  Accuracy\n",
       "0                  with PCA      0.19\n",
       "1  with correlated features      0.79\n",
       "2         with all features      0.78"
      ]
     },
     "execution_count": 59,
     "metadata": {},
     "output_type": "execute_result"
    }
   ],
   "source": [
    "xgb_results = pd.DataFrame({'Type':['with PCA','with correlated features','with all features'], 'Accuracy':[ 0.19,0.79,0.78]})\n",
    "print('XGBoost')\n",
    "xgb_results"
   ]
  },
  {
   "cell_type": "markdown",
   "id": "121f7f38",
   "metadata": {},
   "source": [
    "#### In XGB, correlated features gives best results comparitively"
   ]
  },
  {
   "cell_type": "code",
   "execution_count": null,
   "id": "762a1b50",
   "metadata": {},
   "outputs": [],
   "source": []
  },
  {
   "cell_type": "markdown",
   "id": "e8111f22",
   "metadata": {},
   "source": [
    "## ANN"
   ]
  },
  {
   "cell_type": "code",
   "execution_count": 45,
   "id": "4ed228af",
   "metadata": {},
   "outputs": [],
   "source": [
    "from sklearn.neural_network import MLPClassifier"
   ]
  },
  {
   "cell_type": "markdown",
   "id": "f37dcebc",
   "metadata": {},
   "source": [
    "##### With PCA"
   ]
  },
  {
   "cell_type": "code",
   "execution_count": 67,
   "id": "edc4f2b4",
   "metadata": {},
   "outputs": [
    {
     "name": "stdout",
     "output_type": "stream",
     "text": [
      "Train-Val split- ANN-MLP model- PCA\n",
      "Confusion Matrix: \n",
      "[[ 22   0   0   0]\n",
      " [  0  99   1   0]\n",
      " [  0   6 136   0]\n",
      " [  2   0   0 100]]\n",
      "\n",
      "Classification report : \n",
      "                          precision    recall  f1-score   support\n",
      "\n",
      "                    Bad       0.92      1.00      0.96        22\n",
      "                   Good       0.94      0.99      0.97       100\n",
      "                 Medium       0.99      0.96      0.97       142\n",
      "Unsuitable for drinking       1.00      0.98      0.99       102\n",
      "\n",
      "               accuracy                           0.98       366\n",
      "              macro avg       0.96      0.98      0.97       366\n",
      "           weighted avg       0.98      0.98      0.98       366\n",
      "\n"
     ]
    },
    {
     "name": "stderr",
     "output_type": "stream",
     "text": [
      "C:\\Users\\sweth\\anaconda3\\lib\\site-packages\\sklearn\\neural_network\\_multilayer_perceptron.py:702: ConvergenceWarning: Stochastic Optimizer: Maximum iterations (200) reached and the optimization hasn't converged yet.\n",
      "  warnings.warn(\n"
     ]
    }
   ],
   "source": [
    "## using train & validation set\n",
    "pca_ann = MLPClassifier(hidden_layer_sizes=(20,20),activation='relu',random_state=10)\n",
    "pca_ann.fit(x_train_pca, y_train)\n",
    "y_pred_val_pca_ann = pca_ann.predict(x_val_pca)\n",
    "\n",
    "print('Train-Val split- ANN-MLP model- PCA')\n",
    "cm_pca_ann = confusion_matrix(y_val, y_pred_val_pca_ann)\n",
    "print(f'Confusion Matrix: \\n{cm_pca_ann}')\n",
    "print(f'\\nClassification report : \\n {classification_report(y_val, y_pred_val_pca_ann)}')"
   ]
  },
  {
   "cell_type": "code",
   "execution_count": 68,
   "id": "b14c27fb",
   "metadata": {},
   "outputs": [
    {
     "name": "stdout",
     "output_type": "stream",
     "text": [
      "Test split- ANN-MLP model- PCA\n",
      "Confusion Matrix: \n",
      "[[ 35   0   1   0   0]\n",
      " [ 14   0   0   0   0]\n",
      " [353   0   3   6   0]\n",
      " [157   0   2   4   0]\n",
      " [ 31   0   1   0  32]]\n",
      "\n",
      "Classification report : \n",
      "                          precision    recall  f1-score   support\n",
      "\n",
      "                    Bad       0.06      0.97      0.11        36\n",
      "              Excellent       0.00      0.00      0.00        14\n",
      "                   Good       0.43      0.01      0.02       362\n",
      "                 Medium       0.40      0.02      0.05       163\n",
      "Unsuitable for drinking       1.00      0.50      0.67        64\n",
      "\n",
      "               accuracy                           0.12       639\n",
      "              macro avg       0.38      0.30      0.17       639\n",
      "           weighted avg       0.45      0.12      0.09       639\n",
      "\n"
     ]
    },
    {
     "name": "stderr",
     "output_type": "stream",
     "text": [
      "C:\\Users\\sweth\\anaconda3\\lib\\site-packages\\sklearn\\metrics\\_classification.py:1334: UndefinedMetricWarning: Precision and F-score are ill-defined and being set to 0.0 in labels with no predicted samples. Use `zero_division` parameter to control this behavior.\n",
      "  _warn_prf(average, modifier, msg_start, len(result))\n",
      "C:\\Users\\sweth\\anaconda3\\lib\\site-packages\\sklearn\\metrics\\_classification.py:1334: UndefinedMetricWarning: Precision and F-score are ill-defined and being set to 0.0 in labels with no predicted samples. Use `zero_division` parameter to control this behavior.\n",
      "  _warn_prf(average, modifier, msg_start, len(result))\n",
      "C:\\Users\\sweth\\anaconda3\\lib\\site-packages\\sklearn\\metrics\\_classification.py:1334: UndefinedMetricWarning: Precision and F-score are ill-defined and being set to 0.0 in labels with no predicted samples. Use `zero_division` parameter to control this behavior.\n",
      "  _warn_prf(average, modifier, msg_start, len(result))\n"
     ]
    }
   ],
   "source": [
    "## test set\n",
    "\n",
    "y_pred_test_pca_ann = pca_ann.predict(x_test_pca)\n",
    "\n",
    "print('Test split- ANN-MLP model- PCA')\n",
    "cm_pca_test_ann = confusion_matrix(y_test, y_pred_test_pca_ann)\n",
    "print(f'Confusion Matrix: \\n{cm_pca_test_ann}')\n",
    "print(f'\\nClassification report : \\n {classification_report(y_test, y_pred_test_pca_ann)}')"
   ]
  },
  {
   "cell_type": "markdown",
   "id": "995dd75f",
   "metadata": {},
   "source": [
    "##### Only high correlation features"
   ]
  },
  {
   "cell_type": "code",
   "execution_count": 69,
   "id": "fd5e1b32",
   "metadata": {},
   "outputs": [
    {
     "name": "stderr",
     "output_type": "stream",
     "text": [
      "C:\\Users\\sweth\\anaconda3\\lib\\site-packages\\sklearn\\neural_network\\_multilayer_perceptron.py:702: ConvergenceWarning: Stochastic Optimizer: Maximum iterations (200) reached and the optimization hasn't converged yet.\n",
      "  warnings.warn(\n"
     ]
    },
    {
     "data": {
      "text/html": [
       "<style>#sk-container-id-9 {color: black;background-color: white;}#sk-container-id-9 pre{padding: 0;}#sk-container-id-9 div.sk-toggleable {background-color: white;}#sk-container-id-9 label.sk-toggleable__label {cursor: pointer;display: block;width: 100%;margin-bottom: 0;padding: 0.3em;box-sizing: border-box;text-align: center;}#sk-container-id-9 label.sk-toggleable__label-arrow:before {content: \"▸\";float: left;margin-right: 0.25em;color: #696969;}#sk-container-id-9 label.sk-toggleable__label-arrow:hover:before {color: black;}#sk-container-id-9 div.sk-estimator:hover label.sk-toggleable__label-arrow:before {color: black;}#sk-container-id-9 div.sk-toggleable__content {max-height: 0;max-width: 0;overflow: hidden;text-align: left;background-color: #f0f8ff;}#sk-container-id-9 div.sk-toggleable__content pre {margin: 0.2em;color: black;border-radius: 0.25em;background-color: #f0f8ff;}#sk-container-id-9 input.sk-toggleable__control:checked~div.sk-toggleable__content {max-height: 200px;max-width: 100%;overflow: auto;}#sk-container-id-9 input.sk-toggleable__control:checked~label.sk-toggleable__label-arrow:before {content: \"▾\";}#sk-container-id-9 div.sk-estimator input.sk-toggleable__control:checked~label.sk-toggleable__label {background-color: #d4ebff;}#sk-container-id-9 div.sk-label input.sk-toggleable__control:checked~label.sk-toggleable__label {background-color: #d4ebff;}#sk-container-id-9 input.sk-hidden--visually {border: 0;clip: rect(1px 1px 1px 1px);clip: rect(1px, 1px, 1px, 1px);height: 1px;margin: -1px;overflow: hidden;padding: 0;position: absolute;width: 1px;}#sk-container-id-9 div.sk-estimator {font-family: monospace;background-color: #f0f8ff;border: 1px dotted black;border-radius: 0.25em;box-sizing: border-box;margin-bottom: 0.5em;}#sk-container-id-9 div.sk-estimator:hover {background-color: #d4ebff;}#sk-container-id-9 div.sk-parallel-item::after {content: \"\";width: 100%;border-bottom: 1px solid gray;flex-grow: 1;}#sk-container-id-9 div.sk-label:hover label.sk-toggleable__label {background-color: #d4ebff;}#sk-container-id-9 div.sk-serial::before {content: \"\";position: absolute;border-left: 1px solid gray;box-sizing: border-box;top: 0;bottom: 0;left: 50%;z-index: 0;}#sk-container-id-9 div.sk-serial {display: flex;flex-direction: column;align-items: center;background-color: white;padding-right: 0.2em;padding-left: 0.2em;position: relative;}#sk-container-id-9 div.sk-item {position: relative;z-index: 1;}#sk-container-id-9 div.sk-parallel {display: flex;align-items: stretch;justify-content: center;background-color: white;position: relative;}#sk-container-id-9 div.sk-item::before, #sk-container-id-9 div.sk-parallel-item::before {content: \"\";position: absolute;border-left: 1px solid gray;box-sizing: border-box;top: 0;bottom: 0;left: 50%;z-index: -1;}#sk-container-id-9 div.sk-parallel-item {display: flex;flex-direction: column;z-index: 1;position: relative;background-color: white;}#sk-container-id-9 div.sk-parallel-item:first-child::after {align-self: flex-end;width: 50%;}#sk-container-id-9 div.sk-parallel-item:last-child::after {align-self: flex-start;width: 50%;}#sk-container-id-9 div.sk-parallel-item:only-child::after {width: 0;}#sk-container-id-9 div.sk-dashed-wrapped {border: 1px dashed gray;margin: 0 0.4em 0.5em 0.4em;box-sizing: border-box;padding-bottom: 0.4em;background-color: white;}#sk-container-id-9 div.sk-label label {font-family: monospace;font-weight: bold;display: inline-block;line-height: 1.2em;}#sk-container-id-9 div.sk-label-container {text-align: center;}#sk-container-id-9 div.sk-container {/* jupyter's `normalize.less` sets `[hidden] { display: none; }` but bootstrap.min.css set `[hidden] { display: none !important; }` so we also need the `!important` here to be able to override the default hidden behavior on the sphinx rendered scikit-learn.org. See: https://github.com/scikit-learn/scikit-learn/issues/21755 */display: inline-block !important;position: relative;}#sk-container-id-9 div.sk-text-repr-fallback {display: none;}</style><div id=\"sk-container-id-9\" class=\"sk-top-container\"><div class=\"sk-text-repr-fallback\"><pre>MLPClassifier(hidden_layer_sizes=(20, 20), random_state=10)</pre><b>In a Jupyter environment, please rerun this cell to show the HTML representation or trust the notebook. <br />On GitHub, the HTML representation is unable to render, please try loading this page with nbviewer.org.</b></div><div class=\"sk-container\" hidden><div class=\"sk-item\"><div class=\"sk-estimator sk-toggleable\"><input class=\"sk-toggleable__control sk-hidden--visually\" id=\"sk-estimator-id-9\" type=\"checkbox\" checked><label for=\"sk-estimator-id-9\" class=\"sk-toggleable__label sk-toggleable__label-arrow\">MLPClassifier</label><div class=\"sk-toggleable__content\"><pre>MLPClassifier(hidden_layer_sizes=(20, 20), random_state=10)</pre></div></div></div></div></div>"
      ],
      "text/plain": [
       "MLPClassifier(hidden_layer_sizes=(20, 20), random_state=10)"
      ]
     },
     "execution_count": 69,
     "metadata": {},
     "output_type": "execute_result"
    }
   ],
   "source": [
    "corr_ann = MLPClassifier(hidden_layer_sizes=(20,20),activation='relu',random_state=10)\n",
    "corr_ann.fit(data_x_corr,data_y_corr)"
   ]
  },
  {
   "cell_type": "code",
   "execution_count": 70,
   "id": "925525ad",
   "metadata": {},
   "outputs": [
    {
     "name": "stdout",
     "output_type": "stream",
     "text": [
      "K Fold Validation- ANN-MLP model- for correlation features- Train & Validation sets\n",
      "Accuracy: 0.9376\n",
      "Precision: 0.9394\n",
      "Recall: 0.9376\n",
      "F1 score: 0.9374\n"
     ]
    }
   ],
   "source": [
    "## model evaluation - train & validation set\n",
    "from sklearn.model_selection import cross_validate\n",
    "from sklearn.metrics import make_scorer\n",
    "from sklearn.metrics import precision_score\n",
    "from sklearn.metrics import recall_score\n",
    "from sklearn.metrics import f1_score\n",
    "\n",
    "scores = {'accuracy': 'accuracy',\n",
    "           'precision': make_scorer(precision_score, average='weighted'),\n",
    "           'recall': make_scorer(recall_score, average='weighted'),\n",
    "           'f1': make_scorer(f1_score, average='weighted'),\n",
    "           }\n",
    "\n",
    "\n",
    "ann_score_corr = cross_validate(corr_ann, data_x_corr, data_y_corr, scoring=scores, \n",
    "                           cv=k_fold_splits, n_jobs=-1, error_score=\"raise\")\n",
    "\n",
    "accuracy_corr = np.mean(ann_score_corr['test_accuracy'])\n",
    "precision_corr = np.mean(ann_score_corr['test_precision'])\n",
    "recall_corr = np.mean(ann_score_corr['test_recall'])\n",
    "f1_corr = np.mean(ann_score_corr['test_f1'])\n",
    "\n",
    "print('K Fold Validation- ANN-MLP model- for correlation features- Train & Validation sets')\n",
    "print(f'Accuracy: {accuracy_corr:.4f}')\n",
    "print(f'Precision: {precision_corr:.4f}')\n",
    "print(f'Recall: {recall_corr:.4f}')\n",
    "print(f'F1 score: {f1_corr:.4f}')"
   ]
  },
  {
   "cell_type": "code",
   "execution_count": 71,
   "id": "d2fbc7df",
   "metadata": {},
   "outputs": [
    {
     "name": "stdout",
     "output_type": "stream",
     "text": [
      "K Fold Validation- ANN-MLP model- for correlation features- Test set\n",
      "Confusion Matrix: \n",
      "[[ 34   0   0   1   1]\n",
      " [ 13   0   0   1   0]\n",
      " [349   0   2  11   0]\n",
      " [155   0   0   8   0]\n",
      " [ 19   0   0   1  44]]\n",
      "\n",
      "Classification report : \n",
      "                          precision    recall  f1-score   support\n",
      "\n",
      "                    Bad       0.06      0.94      0.11        36\n",
      "              Excellent       0.00      0.00      0.00        14\n",
      "                   Good       1.00      0.01      0.01       362\n",
      "                 Medium       0.36      0.05      0.09       163\n",
      "Unsuitable for drinking       0.98      0.69      0.81        64\n",
      "\n",
      "               accuracy                           0.14       639\n",
      "              macro avg       0.48      0.34      0.20       639\n",
      "           weighted avg       0.76      0.14      0.12       639\n",
      "\n"
     ]
    },
    {
     "name": "stderr",
     "output_type": "stream",
     "text": [
      "C:\\Users\\sweth\\anaconda3\\lib\\site-packages\\sklearn\\metrics\\_classification.py:1334: UndefinedMetricWarning: Precision and F-score are ill-defined and being set to 0.0 in labels with no predicted samples. Use `zero_division` parameter to control this behavior.\n",
      "  _warn_prf(average, modifier, msg_start, len(result))\n",
      "C:\\Users\\sweth\\anaconda3\\lib\\site-packages\\sklearn\\metrics\\_classification.py:1334: UndefinedMetricWarning: Precision and F-score are ill-defined and being set to 0.0 in labels with no predicted samples. Use `zero_division` parameter to control this behavior.\n",
      "  _warn_prf(average, modifier, msg_start, len(result))\n",
      "C:\\Users\\sweth\\anaconda3\\lib\\site-packages\\sklearn\\metrics\\_classification.py:1334: UndefinedMetricWarning: Precision and F-score are ill-defined and being set to 0.0 in labels with no predicted samples. Use `zero_division` parameter to control this behavior.\n",
      "  _warn_prf(average, modifier, msg_start, len(result))\n"
     ]
    }
   ],
   "source": [
    "### Test set\n",
    "\n",
    "y_pred_test_corr_ann = corr_ann.predict(x_test_corr)\n",
    "\n",
    "\n",
    "print('K Fold Validation- ANN-MLP model- for correlation features- Test set')\n",
    "\n",
    "print(f'Confusion Matrix: \\n{confusion_matrix(y_test_corr, y_pred_test_corr_ann)}')\n",
    "print(f'\\nClassification report : \\n {classification_report(y_test_corr, y_pred_test_corr_ann)}')"
   ]
  },
  {
   "cell_type": "markdown",
   "id": "0a68cb1d",
   "metadata": {},
   "source": [
    "##### All features"
   ]
  },
  {
   "cell_type": "code",
   "execution_count": 72,
   "id": "444a04ba",
   "metadata": {},
   "outputs": [
    {
     "name": "stderr",
     "output_type": "stream",
     "text": [
      "C:\\Users\\sweth\\anaconda3\\lib\\site-packages\\sklearn\\neural_network\\_multilayer_perceptron.py:702: ConvergenceWarning: Stochastic Optimizer: Maximum iterations (200) reached and the optimization hasn't converged yet.\n",
      "  warnings.warn(\n"
     ]
    },
    {
     "data": {
      "text/html": [
       "<style>#sk-container-id-10 {color: black;background-color: white;}#sk-container-id-10 pre{padding: 0;}#sk-container-id-10 div.sk-toggleable {background-color: white;}#sk-container-id-10 label.sk-toggleable__label {cursor: pointer;display: block;width: 100%;margin-bottom: 0;padding: 0.3em;box-sizing: border-box;text-align: center;}#sk-container-id-10 label.sk-toggleable__label-arrow:before {content: \"▸\";float: left;margin-right: 0.25em;color: #696969;}#sk-container-id-10 label.sk-toggleable__label-arrow:hover:before {color: black;}#sk-container-id-10 div.sk-estimator:hover label.sk-toggleable__label-arrow:before {color: black;}#sk-container-id-10 div.sk-toggleable__content {max-height: 0;max-width: 0;overflow: hidden;text-align: left;background-color: #f0f8ff;}#sk-container-id-10 div.sk-toggleable__content pre {margin: 0.2em;color: black;border-radius: 0.25em;background-color: #f0f8ff;}#sk-container-id-10 input.sk-toggleable__control:checked~div.sk-toggleable__content {max-height: 200px;max-width: 100%;overflow: auto;}#sk-container-id-10 input.sk-toggleable__control:checked~label.sk-toggleable__label-arrow:before {content: \"▾\";}#sk-container-id-10 div.sk-estimator input.sk-toggleable__control:checked~label.sk-toggleable__label {background-color: #d4ebff;}#sk-container-id-10 div.sk-label input.sk-toggleable__control:checked~label.sk-toggleable__label {background-color: #d4ebff;}#sk-container-id-10 input.sk-hidden--visually {border: 0;clip: rect(1px 1px 1px 1px);clip: rect(1px, 1px, 1px, 1px);height: 1px;margin: -1px;overflow: hidden;padding: 0;position: absolute;width: 1px;}#sk-container-id-10 div.sk-estimator {font-family: monospace;background-color: #f0f8ff;border: 1px dotted black;border-radius: 0.25em;box-sizing: border-box;margin-bottom: 0.5em;}#sk-container-id-10 div.sk-estimator:hover {background-color: #d4ebff;}#sk-container-id-10 div.sk-parallel-item::after {content: \"\";width: 100%;border-bottom: 1px solid gray;flex-grow: 1;}#sk-container-id-10 div.sk-label:hover label.sk-toggleable__label {background-color: #d4ebff;}#sk-container-id-10 div.sk-serial::before {content: \"\";position: absolute;border-left: 1px solid gray;box-sizing: border-box;top: 0;bottom: 0;left: 50%;z-index: 0;}#sk-container-id-10 div.sk-serial {display: flex;flex-direction: column;align-items: center;background-color: white;padding-right: 0.2em;padding-left: 0.2em;position: relative;}#sk-container-id-10 div.sk-item {position: relative;z-index: 1;}#sk-container-id-10 div.sk-parallel {display: flex;align-items: stretch;justify-content: center;background-color: white;position: relative;}#sk-container-id-10 div.sk-item::before, #sk-container-id-10 div.sk-parallel-item::before {content: \"\";position: absolute;border-left: 1px solid gray;box-sizing: border-box;top: 0;bottom: 0;left: 50%;z-index: -1;}#sk-container-id-10 div.sk-parallel-item {display: flex;flex-direction: column;z-index: 1;position: relative;background-color: white;}#sk-container-id-10 div.sk-parallel-item:first-child::after {align-self: flex-end;width: 50%;}#sk-container-id-10 div.sk-parallel-item:last-child::after {align-self: flex-start;width: 50%;}#sk-container-id-10 div.sk-parallel-item:only-child::after {width: 0;}#sk-container-id-10 div.sk-dashed-wrapped {border: 1px dashed gray;margin: 0 0.4em 0.5em 0.4em;box-sizing: border-box;padding-bottom: 0.4em;background-color: white;}#sk-container-id-10 div.sk-label label {font-family: monospace;font-weight: bold;display: inline-block;line-height: 1.2em;}#sk-container-id-10 div.sk-label-container {text-align: center;}#sk-container-id-10 div.sk-container {/* jupyter's `normalize.less` sets `[hidden] { display: none; }` but bootstrap.min.css set `[hidden] { display: none !important; }` so we also need the `!important` here to be able to override the default hidden behavior on the sphinx rendered scikit-learn.org. See: https://github.com/scikit-learn/scikit-learn/issues/21755 */display: inline-block !important;position: relative;}#sk-container-id-10 div.sk-text-repr-fallback {display: none;}</style><div id=\"sk-container-id-10\" class=\"sk-top-container\"><div class=\"sk-text-repr-fallback\"><pre>MLPClassifier(hidden_layer_sizes=(20, 20), random_state=10)</pre><b>In a Jupyter environment, please rerun this cell to show the HTML representation or trust the notebook. <br />On GitHub, the HTML representation is unable to render, please try loading this page with nbviewer.org.</b></div><div class=\"sk-container\" hidden><div class=\"sk-item\"><div class=\"sk-estimator sk-toggleable\"><input class=\"sk-toggleable__control sk-hidden--visually\" id=\"sk-estimator-id-10\" type=\"checkbox\" checked><label for=\"sk-estimator-id-10\" class=\"sk-toggleable__label sk-toggleable__label-arrow\">MLPClassifier</label><div class=\"sk-toggleable__content\"><pre>MLPClassifier(hidden_layer_sizes=(20, 20), random_state=10)</pre></div></div></div></div></div>"
      ],
      "text/plain": [
       "MLPClassifier(hidden_layer_sizes=(20, 20), random_state=10)"
      ]
     },
     "execution_count": 72,
     "metadata": {},
     "output_type": "execute_result"
    }
   ],
   "source": [
    "ann_model = MLPClassifier(hidden_layer_sizes=(20,20),activation='relu',random_state=10)\n",
    "ann_model.fit(data_x,data_y_wqs)"
   ]
  },
  {
   "cell_type": "code",
   "execution_count": 73,
   "id": "3f6ed343",
   "metadata": {},
   "outputs": [
    {
     "name": "stdout",
     "output_type": "stream",
     "text": [
      "K Fold Validation- ANN-MLP model - for all features- Train & Validation sets\n",
      "Accuracy: 0.9332\n",
      "Precision: 0.9357\n",
      "Recall: 0.9332\n",
      "F1 score: 0.9332\n"
     ]
    }
   ],
   "source": [
    "## model evaluation - train & val set\n",
    "\n",
    "ann_score = cross_validate(ann_model, data_x, data_y_wqs, scoring=scores, \n",
    "                           cv=k_fold_splits, n_jobs=-1, error_score=\"raise\")\n",
    "\n",
    "accuracy = np.mean(ann_score['test_accuracy'])\n",
    "precision = np.mean(ann_score['test_precision'])\n",
    "recall = np.mean(ann_score['test_recall'])\n",
    "f1 = np.mean(ann_score['test_f1'])\n",
    "\n",
    "print('K Fold Validation- ANN-MLP model - for all features- Train & Validation sets')\n",
    "print(f'Accuracy: {accuracy:.4f}')\n",
    "print(f'Precision: {precision:.4f}')\n",
    "print(f'Recall: {recall:.4f}')\n",
    "print(f'F1 score: {f1:.4f}')"
   ]
  },
  {
   "cell_type": "code",
   "execution_count": 74,
   "id": "a778f85e",
   "metadata": {},
   "outputs": [
    {
     "name": "stdout",
     "output_type": "stream",
     "text": [
      "K Fold Validation- ANN-MLP model- for all features- Test set\n",
      "Confusion Matrix: \n",
      "[[ 13   0   0  23   0]\n",
      " [  1   0   0  13   0]\n",
      " [ 31   0   0 331   0]\n",
      " [ 20   0   0 143   0]\n",
      " [ 20   0   0  17  27]]\n",
      "\n",
      "Classification report : \n",
      "                          precision    recall  f1-score   support\n",
      "\n",
      "                    Bad       0.15      0.36      0.21        36\n",
      "              Excellent       0.00      0.00      0.00        14\n",
      "                   Good       0.00      0.00      0.00       362\n",
      "                 Medium       0.27      0.88      0.41       163\n",
      "Unsuitable for drinking       1.00      0.42      0.59        64\n",
      "\n",
      "               accuracy                           0.29       639\n",
      "              macro avg       0.28      0.33      0.24       639\n",
      "           weighted avg       0.18      0.29      0.18       639\n",
      "\n"
     ]
    },
    {
     "name": "stderr",
     "output_type": "stream",
     "text": [
      "C:\\Users\\sweth\\anaconda3\\lib\\site-packages\\sklearn\\metrics\\_classification.py:1334: UndefinedMetricWarning: Precision and F-score are ill-defined and being set to 0.0 in labels with no predicted samples. Use `zero_division` parameter to control this behavior.\n",
      "  _warn_prf(average, modifier, msg_start, len(result))\n",
      "C:\\Users\\sweth\\anaconda3\\lib\\site-packages\\sklearn\\metrics\\_classification.py:1334: UndefinedMetricWarning: Precision and F-score are ill-defined and being set to 0.0 in labels with no predicted samples. Use `zero_division` parameter to control this behavior.\n",
      "  _warn_prf(average, modifier, msg_start, len(result))\n",
      "C:\\Users\\sweth\\anaconda3\\lib\\site-packages\\sklearn\\metrics\\_classification.py:1334: UndefinedMetricWarning: Precision and F-score are ill-defined and being set to 0.0 in labels with no predicted samples. Use `zero_division` parameter to control this behavior.\n",
      "  _warn_prf(average, modifier, msg_start, len(result))\n"
     ]
    }
   ],
   "source": [
    "### Test set\n",
    "\n",
    "y_pred_test_ann = ann_model.predict(x_test)\n",
    "\n",
    "\n",
    "print('K Fold Validation- ANN-MLP model- for all features- Test set')\n",
    "\n",
    "print(f'Confusion Matrix: \\n{confusion_matrix(y_test, y_pred_test_ann)}')\n",
    "print(f'\\nClassification report : \\n {classification_report(y_test, y_pred_test_ann)}')"
   ]
  },
  {
   "cell_type": "code",
   "execution_count": 75,
   "id": "18fec859",
   "metadata": {},
   "outputs": [
    {
     "name": "stdout",
     "output_type": "stream",
     "text": [
      "ANN-MLP\n"
     ]
    },
    {
     "data": {
      "text/html": [
       "<div>\n",
       "<style scoped>\n",
       "    .dataframe tbody tr th:only-of-type {\n",
       "        vertical-align: middle;\n",
       "    }\n",
       "\n",
       "    .dataframe tbody tr th {\n",
       "        vertical-align: top;\n",
       "    }\n",
       "\n",
       "    .dataframe thead th {\n",
       "        text-align: right;\n",
       "    }\n",
       "</style>\n",
       "<table border=\"1\" class=\"dataframe\">\n",
       "  <thead>\n",
       "    <tr style=\"text-align: right;\">\n",
       "      <th></th>\n",
       "      <th>Type</th>\n",
       "      <th>Accuracy</th>\n",
       "    </tr>\n",
       "  </thead>\n",
       "  <tbody>\n",
       "    <tr>\n",
       "      <th>0</th>\n",
       "      <td>with PCA</td>\n",
       "      <td>0.12</td>\n",
       "    </tr>\n",
       "    <tr>\n",
       "      <th>1</th>\n",
       "      <td>with correlated features</td>\n",
       "      <td>0.14</td>\n",
       "    </tr>\n",
       "    <tr>\n",
       "      <th>2</th>\n",
       "      <td>with all features</td>\n",
       "      <td>0.29</td>\n",
       "    </tr>\n",
       "  </tbody>\n",
       "</table>\n",
       "</div>"
      ],
      "text/plain": [
       "                       Type  Accuracy\n",
       "0                  with PCA      0.12\n",
       "1  with correlated features      0.14\n",
       "2         with all features      0.29"
      ]
     },
     "execution_count": 75,
     "metadata": {},
     "output_type": "execute_result"
    }
   ],
   "source": [
    "ann_results = pd.DataFrame({'Type':['with PCA','with correlated features','with all features'], 'Accuracy':[ 0.12,0.14,0.29]})\n",
    "print('ANN-MLP')\n",
    "ann_results"
   ]
  },
  {
   "cell_type": "markdown",
   "id": "d9efa5c6",
   "metadata": {},
   "source": [
    "#### In ANN, all features gives best results comparitively"
   ]
  },
  {
   "cell_type": "markdown",
   "id": "f833b069",
   "metadata": {},
   "source": [
    "#### Overall performance "
   ]
  },
  {
   "cell_type": "code",
   "execution_count": 77,
   "id": "1184bc8b",
   "metadata": {},
   "outputs": [
    {
     "data": {
      "text/html": [
       "<div>\n",
       "<style scoped>\n",
       "    .dataframe tbody tr th:only-of-type {\n",
       "        vertical-align: middle;\n",
       "    }\n",
       "\n",
       "    .dataframe tbody tr th {\n",
       "        vertical-align: top;\n",
       "    }\n",
       "\n",
       "    .dataframe thead th {\n",
       "        text-align: right;\n",
       "    }\n",
       "</style>\n",
       "<table border=\"1\" class=\"dataframe\">\n",
       "  <thead>\n",
       "    <tr style=\"text-align: right;\">\n",
       "      <th></th>\n",
       "      <th>Model</th>\n",
       "      <th>Accuracy</th>\n",
       "    </tr>\n",
       "  </thead>\n",
       "  <tbody>\n",
       "    <tr>\n",
       "      <th>0</th>\n",
       "      <td>DT</td>\n",
       "      <td>0.52</td>\n",
       "    </tr>\n",
       "    <tr>\n",
       "      <th>1</th>\n",
       "      <td>SVM</td>\n",
       "      <td>0.28</td>\n",
       "    </tr>\n",
       "    <tr>\n",
       "      <th>2</th>\n",
       "      <td>XGB</td>\n",
       "      <td>0.79</td>\n",
       "    </tr>\n",
       "    <tr>\n",
       "      <th>3</th>\n",
       "      <td>ANN-MLP</td>\n",
       "      <td>0.29</td>\n",
       "    </tr>\n",
       "  </tbody>\n",
       "</table>\n",
       "</div>"
      ],
      "text/plain": [
       "     Model  Accuracy\n",
       "0       DT      0.52\n",
       "1      SVM      0.28\n",
       "2      XGB      0.79\n",
       "3  ANN-MLP      0.29"
      ]
     },
     "execution_count": 77,
     "metadata": {},
     "output_type": "execute_result"
    }
   ],
   "source": [
    "best_results = pd.DataFrame({'Model':['DT','SVM','XGB','ANN-MLP'],'Accuracy':[0.52,0.28,0.79,0.29]})\n",
    "best_results"
   ]
  },
  {
   "cell_type": "code",
   "execution_count": 87,
   "id": "ad5d36df",
   "metadata": {},
   "outputs": [
    {
     "data": {
      "text/plain": [
       "<AxesSubplot:xlabel='Model'>"
      ]
     },
     "execution_count": 87,
     "metadata": {},
     "output_type": "execute_result"
    },
    {
     "data": {
      "image/png": "[encoded data removed]",
      "text/plain": [
       "<Figure size 720x720 with 1 Axes>"
      ]
     },
     "metadata": {
      "needs_background": "light"
     },
     "output_type": "display_data"
    }
   ],
   "source": [
    "import matplotlib.pyplot as plt\n",
    "best_results.plot(kind='bar',x='Model', figsize=(10,10))"
   ]
  },
  {
   "cell_type": "code",
   "execution_count": null,
   "id": "68c665d9",
   "metadata": {},
   "outputs": [],
   "source": []
  }
 ],
 "metadata": {
  "kernelspec": {
   "display_name": "Python 3 (ipykernel)",
   "language": "python",
   "name": "python3"
  },
  "language_info": {
   "codemirror_mode": {
    "name": "ipython",
    "version": 3
   },
   "file_extension": ".py",
   "mimetype": "text/x-python",
   "name": "python",
   "nbconvert_exporter": "python",
   "pygments_lexer": "ipython3",
   "version": "3.9.7"
  }
 },
 "nbformat": 4,
 "nbformat_minor": 5
}
